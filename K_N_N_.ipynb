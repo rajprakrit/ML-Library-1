{
  "nbformat": 4,
  "nbformat_minor": 0,
  "metadata": {
    "kernelspec": {
      "display_name": "Python 3",
      "language": "python",
      "name": "python3"
    },
    "language_info": {
      "codemirror_mode": {
        "name": "ipython",
        "version": 3
      },
      "file_extension": ".py",
      "mimetype": "text/x-python",
      "name": "python",
      "nbconvert_exporter": "python",
      "pygments_lexer": "ipython3",
      "version": "3.7.1"
    },
    "colab": {
      "name": "K N N .ipynb",
      "provenance": [],
      "include_colab_link": true
    }
  },
  "cells": [
    {
      "cell_type": "markdown",
      "metadata": {
        "id": "view-in-github",
        "colab_type": "text"
      },
      "source": [
        "<a href=\"https://colab.research.google.com/github/rajprakrit/ML-Library-1/blob/master/K_N_N_.ipynb\" target=\"_parent\"><img src=\"https://colab.research.google.com/assets/colab-badge.svg\" alt=\"Open In Colab\"/></a>"
      ]
    },
    {
      "cell_type": "code",
      "metadata": {
        "colab_type": "code",
        "id": "Wa0F0bvFDati",
        "colab": {}
      },
      "source": [
        "import pandas as pd\n",
        "import numpy as np\n",
        "import matplotlib.pyplot as plt\n",
        "from collections import Counter\n",
        "from sklearn import datasets"
      ],
      "execution_count": 0,
      "outputs": []
    },
    {
      "cell_type": "code",
      "metadata": {
        "id": "SiyGWLnsgX6W",
        "colab_type": "code",
        "colab": {}
      },
      "source": [
        "#defining the euclidian distance function\n",
        "def sqr_Distance(x1, x2):\n",
        "    return np.sqrt(np.sum(np.square(x1-x2)))\n",
        "\n",
        "\n",
        "#accuracy function\n",
        "def _accuracy(predictions, y):\n",
        "  acc = np.sum(predictions == y)/len(y)\n",
        "  return acc*100\n",
        "\n",
        "\n",
        "#splitting current dataframe or the array to train and test sets\n",
        "def train_test_split(X, y, ratio):\n",
        "  size = X.shape[0];\n",
        "  count = size*(1-ratio)\n",
        "  count = int(count)\n",
        "  X_train = X[:count]\n",
        "  y_train = y[:count]\n",
        "  X_test = X[count:]\n",
        "  y_test = y[count:]\n",
        "\n",
        "  return X_train, X_test, y_train, y_test\n",
        "\n",
        "\n",
        "#creating a class for KNN\n",
        "class KNN:\n",
        "    '''defining a class for training our KNN model'''\n",
        "    \n",
        "    #init method with input as k(default = 3 for all objects)\n",
        "    def __init__(self, k = 3):\n",
        "      '''it contains only one input i.e k'''\n",
        "        self.k = k\n",
        "        \n",
        "    #train function(just storing the learning input)\n",
        "    def fit(self, X, y):\n",
        "      '''training the model only comprises of storing the inputs '''\n",
        "\n",
        "        self.X_train = X\n",
        "        self.y_train = y\n",
        "\n",
        "\n",
        "    #predicting labels(output)   \n",
        "    def predict(self, X):\n",
        "      '''this method predicts the labels for every input'''\n",
        "\n",
        "        predicted_labels = [self.predict_algorithm(i) for i in X]\n",
        "        return np.array(predicted_labels)\n",
        "\n",
        "\n",
        "    #algorithm for prediction  \n",
        "    def predict_algorithm(self, X):\n",
        "      '''Using this method we can predict the label with heighest frequency among the k nearest labels'''\n",
        "        # distances from each point\n",
        "        distances = [sqr_Distance(X, i) for i in self.X_train]\n",
        "        \n",
        "        # k nearest samples\n",
        "        k_indeces = np.argsort(distances)[:self.k]  ## it extracts first k elements(i.e index of elements) with shortest distance considering euclidian distance\n",
        "        k_nearest_labels = [self.y_train[i] for i in k_indeces] ## getting labels of first k nearest points considering euclidian distance\n",
        "        \n",
        "        #most common label\n",
        "        most_common = Counter(k_nearest_labels).most_common(1) ##it returns 1st most frequent element and its frequency\n",
        "        return most_common[0][0] ## gives the element \n",
        "    \n",
        "        "
      ],
      "execution_count": 0,
      "outputs": []
    },
    {
      "cell_type": "code",
      "metadata": {
        "colab_type": "code",
        "id": "BG8XPs4nDeiY",
        "colab": {}
      },
      "source": [
        "mnist = datasets.load_digits() #loading MNIST data set"
      ],
      "execution_count": 0,
      "outputs": []
    },
    {
      "cell_type": "code",
      "metadata": {
        "colab_type": "code",
        "id": "2uV6lWDzDdxL",
        "colab": {}
      },
      "source": [
        "X, y = mnist.data, mnist.target #breaking the dataset into input and target"
      ],
      "execution_count": 0,
      "outputs": []
    },
    {
      "cell_type": "code",
      "metadata": {
        "colab_type": "code",
        "id": "iTcYk2JADdW4",
        "colab": {}
      },
      "source": [
        "X_train, X_test, y_train, y_test = train_test_split(X, y, 0.2) #using split function to split data "
      ],
      "execution_count": 0,
      "outputs": []
    },
    {
      "cell_type": "code",
      "metadata": {
        "id": "HCfLmwy8DMVc",
        "colab_type": "code",
        "colab": {}
      },
      "source": [
        "clf = KNN() #creating an object which belongs to class KNN "
      ],
      "execution_count": 0,
      "outputs": []
    },
    {
      "cell_type": "code",
      "metadata": {
        "id": "WGvazaJHEqz5",
        "colab_type": "code",
        "colab": {}
      },
      "source": [
        "clf.fit(X_train, y_train) # training part"
      ],
      "execution_count": 0,
      "outputs": []
    },
    {
      "cell_type": "code",
      "metadata": {
        "id": "qj0S8aFoEvtM",
        "colab_type": "code",
        "colab": {}
      },
      "source": [
        "predictions = clf.predict(X_test) "
      ],
      "execution_count": 0,
      "outputs": []
    },
    {
      "cell_type": "code",
      "metadata": {
        "id": "AWBr5jMSE0hj",
        "colab_type": "code",
        "outputId": "de9de220-45be-484e-f16f-5b2ffb882015",
        "colab": {
          "base_uri": "https://localhost:8080/",
          "height": 50
        }
      },
      "source": [
        "print(\"the accuracy of our model is:\") ## using the global accuracy function to get accuracy\n",
        "_accuracy(predictions, y_test)"
      ],
      "execution_count": 0,
      "outputs": [
        {
          "output_type": "stream",
          "text": [
            "the accuracy of our model is:\n"
          ],
          "name": "stdout"
        },
        {
          "output_type": "execute_result",
          "data": {
            "text/plain": [
              "96.11111111111111"
            ]
          },
          "metadata": {
            "tags": []
          },
          "execution_count": 9
        }
      ]
    },
    {
      "cell_type": "markdown",
      "metadata": {
        "id": "vlzloADsAudN",
        "colab_type": "text"
      },
      "source": [
        "**USING SKLEARN LIBRARY FOR TRAINING OUR MODEL**"
      ]
    },
    {
      "cell_type": "code",
      "metadata": {
        "id": "XaWwvjf4SHBD",
        "colab_type": "code",
        "colab": {}
      },
      "source": [
        "from sklearn.neighbors import KNeighborsClassifier "
      ],
      "execution_count": 0,
      "outputs": []
    },
    {
      "cell_type": "code",
      "metadata": {
        "id": "3U6tBAHlA99C",
        "colab_type": "code",
        "colab": {}
      },
      "source": [
        "clf1 = KNeighborsClassifier(n_neighbors= 3)"
      ],
      "execution_count": 0,
      "outputs": []
    },
    {
      "cell_type": "code",
      "metadata": {
        "id": "rQS812TUBNgM",
        "colab_type": "code",
        "outputId": "8c719b83-4c90-40cc-a410-f76ec499bfae",
        "colab": {
          "base_uri": "https://localhost:8080/",
          "height": 67
        }
      },
      "source": [
        "clf1.fit(X_train, y_train)"
      ],
      "execution_count": 0,
      "outputs": [
        {
          "output_type": "execute_result",
          "data": {
            "text/plain": [
              "KNeighborsClassifier(algorithm='auto', leaf_size=30, metric='minkowski',\n",
              "                     metric_params=None, n_jobs=None, n_neighbors=3, p=2,\n",
              "                     weights='uniform')"
            ]
          },
          "metadata": {
            "tags": []
          },
          "execution_count": 12
        }
      ]
    },
    {
      "cell_type": "code",
      "metadata": {
        "id": "h8Q-qN6EBVDQ",
        "colab_type": "code",
        "colab": {}
      },
      "source": [
        "training_score = clf1.score(X_train, y_train) \n",
        "test_score = clf1.score(X_test, y_test)"
      ],
      "execution_count": 0,
      "outputs": []
    },
    {
      "cell_type": "code",
      "metadata": {
        "id": "qjy4Rt9kBdRh",
        "colab_type": "code",
        "colab": {}
      },
      "source": [
        "accuracy = test_score*100"
      ],
      "execution_count": 0,
      "outputs": []
    },
    {
      "cell_type": "code",
      "metadata": {
        "id": "cJ8qdy2cBkDW",
        "colab_type": "code",
        "outputId": "46d66c36-97f7-4ae1-9c89-5047076beb83",
        "colab": {
          "base_uri": "https://localhost:8080/",
          "height": 34
        }
      },
      "source": [
        "accuracy "
      ],
      "execution_count": 0,
      "outputs": [
        {
          "output_type": "execute_result",
          "data": {
            "text/plain": [
              "96.66666666666667"
            ]
          },
          "metadata": {
            "tags": []
          },
          "execution_count": 17
        }
      ]
    },
    {
      "cell_type": "code",
      "metadata": {
        "id": "Ms1OqO5jB854",
        "colab_type": "code",
        "colab": {}
      },
      "source": [
        ""
      ],
      "execution_count": 0,
      "outputs": []
    }
  ]
}