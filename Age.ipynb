{
  "nbformat": 4,
  "nbformat_minor": 0,
  "metadata": {
    "colab": {
      "name": "Age.ipynb",
      "provenance": [],
      "collapsed_sections": [
        "_xam1COLjPAS",
        "Q5kuUNB6iAna",
        "74l1fshEjkNi",
        "7VDOR-N4kLuE",
        "EGOU1V1qhUYd",
        "ELUlsft_Gr10",
        "jgUvnhXLSMkq",
        "Z2ZI8LnEjh4r",
        "jYlNhNQj4Gez",
        "Xx060KbbnnwW",
        "_XeCgU_ToE18",
        "BEgvHLyAikVV"
      ],
      "include_colab_link": true
    },
    "kernelspec": {
      "name": "python3",
      "display_name": "Python 3"
    },
    "accelerator": "GPU",
    "widgets": {
      "application/vnd.jupyter.widget-state+json": {
        "91df486fc6fb488fb4a961827353a3d7": {
          "model_module": "@jupyter-widgets/controls",
          "model_name": "HBoxModel",
          "state": {
            "_view_name": "HBoxView",
            "_dom_classes": [],
            "_model_name": "HBoxModel",
            "_view_module": "@jupyter-widgets/controls",
            "_model_module_version": "1.5.0",
            "_view_count": null,
            "_view_module_version": "1.5.0",
            "box_style": "",
            "layout": "IPY_MODEL_17656c0c39d84e79b6bee6db7e11a730",
            "_model_module": "@jupyter-widgets/controls",
            "children": [
              "IPY_MODEL_bdb8edcb4f804acd939df96fc64462f2",
              "IPY_MODEL_4d1cf972da164a94b62ae621910d5917"
            ]
          }
        },
        "17656c0c39d84e79b6bee6db7e11a730": {
          "model_module": "@jupyter-widgets/base",
          "model_name": "LayoutModel",
          "state": {
            "_view_name": "LayoutView",
            "grid_template_rows": null,
            "right": null,
            "justify_content": null,
            "_view_module": "@jupyter-widgets/base",
            "overflow": null,
            "_model_module_version": "1.2.0",
            "_view_count": null,
            "flex_flow": null,
            "width": null,
            "min_width": null,
            "border": null,
            "align_items": null,
            "bottom": null,
            "_model_module": "@jupyter-widgets/base",
            "top": null,
            "grid_column": null,
            "overflow_y": null,
            "overflow_x": null,
            "grid_auto_flow": null,
            "grid_area": null,
            "grid_template_columns": null,
            "flex": null,
            "_model_name": "LayoutModel",
            "justify_items": null,
            "grid_row": null,
            "max_height": null,
            "align_content": null,
            "visibility": null,
            "align_self": null,
            "height": null,
            "min_height": null,
            "padding": null,
            "grid_auto_rows": null,
            "grid_gap": null,
            "max_width": null,
            "order": null,
            "_view_module_version": "1.2.0",
            "grid_template_areas": null,
            "object_position": null,
            "object_fit": null,
            "grid_auto_columns": null,
            "margin": null,
            "display": null,
            "left": null
          }
        },
        "bdb8edcb4f804acd939df96fc64462f2": {
          "model_module": "@jupyter-widgets/controls",
          "model_name": "FloatProgressModel",
          "state": {
            "_view_name": "ProgressView",
            "style": "IPY_MODEL_2d353c59d9a04a06bd019f166c7b885c",
            "_dom_classes": [],
            "description": "100%",
            "_model_name": "FloatProgressModel",
            "bar_style": "success",
            "max": 21388428,
            "_view_module": "@jupyter-widgets/controls",
            "_model_module_version": "1.5.0",
            "value": 21388428,
            "_view_count": null,
            "_view_module_version": "1.5.0",
            "orientation": "horizontal",
            "min": 0,
            "description_tooltip": null,
            "_model_module": "@jupyter-widgets/controls",
            "layout": "IPY_MODEL_dd38ee6e1e094c30b74b689a81c32b0f"
          }
        },
        "4d1cf972da164a94b62ae621910d5917": {
          "model_module": "@jupyter-widgets/controls",
          "model_name": "HTMLModel",
          "state": {
            "_view_name": "HTMLView",
            "style": "IPY_MODEL_3618353feb814185a72f154d4b9b8325",
            "_dom_classes": [],
            "description": "",
            "_model_name": "HTMLModel",
            "placeholder": "​",
            "_view_module": "@jupyter-widgets/controls",
            "_model_module_version": "1.5.0",
            "value": " 20.4M/20.4M [01:55&lt;00:00, 185kB/s]",
            "_view_count": null,
            "_view_module_version": "1.5.0",
            "description_tooltip": null,
            "_model_module": "@jupyter-widgets/controls",
            "layout": "IPY_MODEL_18a659324ce84029bed389ae029f7190"
          }
        },
        "2d353c59d9a04a06bd019f166c7b885c": {
          "model_module": "@jupyter-widgets/controls",
          "model_name": "ProgressStyleModel",
          "state": {
            "_view_name": "StyleView",
            "_model_name": "ProgressStyleModel",
            "description_width": "initial",
            "_view_module": "@jupyter-widgets/base",
            "_model_module_version": "1.5.0",
            "_view_count": null,
            "_view_module_version": "1.2.0",
            "bar_color": null,
            "_model_module": "@jupyter-widgets/controls"
          }
        },
        "dd38ee6e1e094c30b74b689a81c32b0f": {
          "model_module": "@jupyter-widgets/base",
          "model_name": "LayoutModel",
          "state": {
            "_view_name": "LayoutView",
            "grid_template_rows": null,
            "right": null,
            "justify_content": null,
            "_view_module": "@jupyter-widgets/base",
            "overflow": null,
            "_model_module_version": "1.2.0",
            "_view_count": null,
            "flex_flow": null,
            "width": null,
            "min_width": null,
            "border": null,
            "align_items": null,
            "bottom": null,
            "_model_module": "@jupyter-widgets/base",
            "top": null,
            "grid_column": null,
            "overflow_y": null,
            "overflow_x": null,
            "grid_auto_flow": null,
            "grid_area": null,
            "grid_template_columns": null,
            "flex": null,
            "_model_name": "LayoutModel",
            "justify_items": null,
            "grid_row": null,
            "max_height": null,
            "align_content": null,
            "visibility": null,
            "align_self": null,
            "height": null,
            "min_height": null,
            "padding": null,
            "grid_auto_rows": null,
            "grid_gap": null,
            "max_width": null,
            "order": null,
            "_view_module_version": "1.2.0",
            "grid_template_areas": null,
            "object_position": null,
            "object_fit": null,
            "grid_auto_columns": null,
            "margin": null,
            "display": null,
            "left": null
          }
        },
        "3618353feb814185a72f154d4b9b8325": {
          "model_module": "@jupyter-widgets/controls",
          "model_name": "DescriptionStyleModel",
          "state": {
            "_view_name": "StyleView",
            "_model_name": "DescriptionStyleModel",
            "description_width": "",
            "_view_module": "@jupyter-widgets/base",
            "_model_module_version": "1.5.0",
            "_view_count": null,
            "_view_module_version": "1.2.0",
            "_model_module": "@jupyter-widgets/controls"
          }
        },
        "18a659324ce84029bed389ae029f7190": {
          "model_module": "@jupyter-widgets/base",
          "model_name": "LayoutModel",
          "state": {
            "_view_name": "LayoutView",
            "grid_template_rows": null,
            "right": null,
            "justify_content": null,
            "_view_module": "@jupyter-widgets/base",
            "overflow": null,
            "_model_module_version": "1.2.0",
            "_view_count": null,
            "flex_flow": null,
            "width": null,
            "min_width": null,
            "border": null,
            "align_items": null,
            "bottom": null,
            "_model_module": "@jupyter-widgets/base",
            "top": null,
            "grid_column": null,
            "overflow_y": null,
            "overflow_x": null,
            "grid_auto_flow": null,
            "grid_area": null,
            "grid_template_columns": null,
            "flex": null,
            "_model_name": "LayoutModel",
            "justify_items": null,
            "grid_row": null,
            "max_height": null,
            "align_content": null,
            "visibility": null,
            "align_self": null,
            "height": null,
            "min_height": null,
            "padding": null,
            "grid_auto_rows": null,
            "grid_gap": null,
            "max_width": null,
            "order": null,
            "_view_module_version": "1.2.0",
            "grid_template_areas": null,
            "object_position": null,
            "object_fit": null,
            "grid_auto_columns": null,
            "margin": null,
            "display": null,
            "left": null
          }
        },
        "fc5dd30a2b454558be00d0fb88ee3b0f": {
          "model_module": "@jupyter-widgets/controls",
          "model_name": "HBoxModel",
          "state": {
            "_view_name": "HBoxView",
            "_dom_classes": [],
            "_model_name": "HBoxModel",
            "_view_module": "@jupyter-widgets/controls",
            "_model_module_version": "1.5.0",
            "_view_count": null,
            "_view_module_version": "1.5.0",
            "box_style": "",
            "layout": "IPY_MODEL_a1a33a3c017a4caea90f158d3e9da8b4",
            "_model_module": "@jupyter-widgets/controls",
            "children": [
              "IPY_MODEL_4496e637c9934d3a933dfccccfda7159",
              "IPY_MODEL_960e15de8a4e4670b590707030e119fe"
            ]
          }
        },
        "a1a33a3c017a4caea90f158d3e9da8b4": {
          "model_module": "@jupyter-widgets/base",
          "model_name": "LayoutModel",
          "state": {
            "_view_name": "LayoutView",
            "grid_template_rows": null,
            "right": null,
            "justify_content": null,
            "_view_module": "@jupyter-widgets/base",
            "overflow": null,
            "_model_module_version": "1.2.0",
            "_view_count": null,
            "flex_flow": null,
            "width": null,
            "min_width": null,
            "border": null,
            "align_items": null,
            "bottom": null,
            "_model_module": "@jupyter-widgets/base",
            "top": null,
            "grid_column": null,
            "overflow_y": null,
            "overflow_x": null,
            "grid_auto_flow": null,
            "grid_area": null,
            "grid_template_columns": null,
            "flex": null,
            "_model_name": "LayoutModel",
            "justify_items": null,
            "grid_row": null,
            "max_height": null,
            "align_content": null,
            "visibility": null,
            "align_self": null,
            "height": null,
            "min_height": null,
            "padding": null,
            "grid_auto_rows": null,
            "grid_gap": null,
            "max_width": null,
            "order": null,
            "_view_module_version": "1.2.0",
            "grid_template_areas": null,
            "object_position": null,
            "object_fit": null,
            "grid_auto_columns": null,
            "margin": null,
            "display": null,
            "left": null
          }
        },
        "4496e637c9934d3a933dfccccfda7159": {
          "model_module": "@jupyter-widgets/controls",
          "model_name": "FloatProgressModel",
          "state": {
            "_view_name": "ProgressView",
            "style": "IPY_MODEL_f4be982483664d73aea5e7bf7077a417",
            "_dom_classes": [],
            "description": "100%",
            "_model_name": "FloatProgressModel",
            "bar_style": "success",
            "max": 63,
            "_view_module": "@jupyter-widgets/controls",
            "_model_module_version": "1.5.0",
            "value": 63,
            "_view_count": null,
            "_view_module_version": "1.5.0",
            "orientation": "horizontal",
            "min": 0,
            "description_tooltip": null,
            "_model_module": "@jupyter-widgets/controls",
            "layout": "IPY_MODEL_ad81c22f07c4495c88102cac3e9b5c5e"
          }
        },
        "960e15de8a4e4670b590707030e119fe": {
          "model_module": "@jupyter-widgets/controls",
          "model_name": "HTMLModel",
          "state": {
            "_view_name": "HTMLView",
            "style": "IPY_MODEL_00ba95d32758450da92c18035ca8f41c",
            "_dom_classes": [],
            "description": "",
            "_model_name": "HTMLModel",
            "placeholder": "​",
            "_view_module": "@jupyter-widgets/controls",
            "_model_module_version": "1.5.0",
            "value": " 63/63 [04:27&lt;00:00,  4.25s/it, loss=0.0797]",
            "_view_count": null,
            "_view_module_version": "1.5.0",
            "description_tooltip": null,
            "_model_module": "@jupyter-widgets/controls",
            "layout": "IPY_MODEL_4a342c0e1b8148d2b84f36cd0dd944c6"
          }
        },
        "f4be982483664d73aea5e7bf7077a417": {
          "model_module": "@jupyter-widgets/controls",
          "model_name": "ProgressStyleModel",
          "state": {
            "_view_name": "StyleView",
            "_model_name": "ProgressStyleModel",
            "description_width": "initial",
            "_view_module": "@jupyter-widgets/base",
            "_model_module_version": "1.5.0",
            "_view_count": null,
            "_view_module_version": "1.2.0",
            "bar_color": null,
            "_model_module": "@jupyter-widgets/controls"
          }
        },
        "ad81c22f07c4495c88102cac3e9b5c5e": {
          "model_module": "@jupyter-widgets/base",
          "model_name": "LayoutModel",
          "state": {
            "_view_name": "LayoutView",
            "grid_template_rows": null,
            "right": null,
            "justify_content": null,
            "_view_module": "@jupyter-widgets/base",
            "overflow": null,
            "_model_module_version": "1.2.0",
            "_view_count": null,
            "flex_flow": null,
            "width": null,
            "min_width": null,
            "border": null,
            "align_items": null,
            "bottom": null,
            "_model_module": "@jupyter-widgets/base",
            "top": null,
            "grid_column": null,
            "overflow_y": null,
            "overflow_x": null,
            "grid_auto_flow": null,
            "grid_area": null,
            "grid_template_columns": null,
            "flex": null,
            "_model_name": "LayoutModel",
            "justify_items": null,
            "grid_row": null,
            "max_height": null,
            "align_content": null,
            "visibility": null,
            "align_self": null,
            "height": null,
            "min_height": null,
            "padding": null,
            "grid_auto_rows": null,
            "grid_gap": null,
            "max_width": null,
            "order": null,
            "_view_module_version": "1.2.0",
            "grid_template_areas": null,
            "object_position": null,
            "object_fit": null,
            "grid_auto_columns": null,
            "margin": null,
            "display": null,
            "left": null
          }
        },
        "00ba95d32758450da92c18035ca8f41c": {
          "model_module": "@jupyter-widgets/controls",
          "model_name": "DescriptionStyleModel",
          "state": {
            "_view_name": "StyleView",
            "_model_name": "DescriptionStyleModel",
            "description_width": "",
            "_view_module": "@jupyter-widgets/base",
            "_model_module_version": "1.5.0",
            "_view_count": null,
            "_view_module_version": "1.2.0",
            "_model_module": "@jupyter-widgets/controls"
          }
        },
        "4a342c0e1b8148d2b84f36cd0dd944c6": {
          "model_module": "@jupyter-widgets/base",
          "model_name": "LayoutModel",
          "state": {
            "_view_name": "LayoutView",
            "grid_template_rows": null,
            "right": null,
            "justify_content": null,
            "_view_module": "@jupyter-widgets/base",
            "overflow": null,
            "_model_module_version": "1.2.0",
            "_view_count": null,
            "flex_flow": null,
            "width": null,
            "min_width": null,
            "border": null,
            "align_items": null,
            "bottom": null,
            "_model_module": "@jupyter-widgets/base",
            "top": null,
            "grid_column": null,
            "overflow_y": null,
            "overflow_x": null,
            "grid_auto_flow": null,
            "grid_area": null,
            "grid_template_columns": null,
            "flex": null,
            "_model_name": "LayoutModel",
            "justify_items": null,
            "grid_row": null,
            "max_height": null,
            "align_content": null,
            "visibility": null,
            "align_self": null,
            "height": null,
            "min_height": null,
            "padding": null,
            "grid_auto_rows": null,
            "grid_gap": null,
            "max_width": null,
            "order": null,
            "_view_module_version": "1.2.0",
            "grid_template_areas": null,
            "object_position": null,
            "object_fit": null,
            "grid_auto_columns": null,
            "margin": null,
            "display": null,
            "left": null
          }
        },
        "cd0c780d8fff447a844ca9f9194a82e6": {
          "model_module": "@jupyter-widgets/controls",
          "model_name": "HBoxModel",
          "state": {
            "_view_name": "HBoxView",
            "_dom_classes": [],
            "_model_name": "HBoxModel",
            "_view_module": "@jupyter-widgets/controls",
            "_model_module_version": "1.5.0",
            "_view_count": null,
            "_view_module_version": "1.5.0",
            "box_style": "",
            "layout": "IPY_MODEL_1d712a4a3b7c41e18a69cd3f7e379144",
            "_model_module": "@jupyter-widgets/controls",
            "children": [
              "IPY_MODEL_77942c5e81d9461294aa237d6661b03c",
              "IPY_MODEL_f5b6c11e18484451902b396dc803e9d0"
            ]
          }
        },
        "1d712a4a3b7c41e18a69cd3f7e379144": {
          "model_module": "@jupyter-widgets/base",
          "model_name": "LayoutModel",
          "state": {
            "_view_name": "LayoutView",
            "grid_template_rows": null,
            "right": null,
            "justify_content": null,
            "_view_module": "@jupyter-widgets/base",
            "overflow": null,
            "_model_module_version": "1.2.0",
            "_view_count": null,
            "flex_flow": null,
            "width": null,
            "min_width": null,
            "border": null,
            "align_items": null,
            "bottom": null,
            "_model_module": "@jupyter-widgets/base",
            "top": null,
            "grid_column": null,
            "overflow_y": null,
            "overflow_x": null,
            "grid_auto_flow": null,
            "grid_area": null,
            "grid_template_columns": null,
            "flex": null,
            "_model_name": "LayoutModel",
            "justify_items": null,
            "grid_row": null,
            "max_height": null,
            "align_content": null,
            "visibility": null,
            "align_self": null,
            "height": null,
            "min_height": null,
            "padding": null,
            "grid_auto_rows": null,
            "grid_gap": null,
            "max_width": null,
            "order": null,
            "_view_module_version": "1.2.0",
            "grid_template_areas": null,
            "object_position": null,
            "object_fit": null,
            "grid_auto_columns": null,
            "margin": null,
            "display": null,
            "left": null
          }
        },
        "77942c5e81d9461294aa237d6661b03c": {
          "model_module": "@jupyter-widgets/controls",
          "model_name": "FloatProgressModel",
          "state": {
            "_view_name": "ProgressView",
            "style": "IPY_MODEL_64a9982df43a488ebb28ba7642a31fcd",
            "_dom_classes": [],
            "description": "100%",
            "_model_name": "FloatProgressModel",
            "bar_style": "success",
            "max": 1182,
            "_view_module": "@jupyter-widgets/controls",
            "_model_module_version": "1.5.0",
            "value": 1182,
            "_view_count": null,
            "_view_module_version": "1.5.0",
            "orientation": "horizontal",
            "min": 0,
            "description_tooltip": null,
            "_model_module": "@jupyter-widgets/controls",
            "layout": "IPY_MODEL_e75e45661b2641a89dd6da0f3b927301"
          }
        },
        "f5b6c11e18484451902b396dc803e9d0": {
          "model_module": "@jupyter-widgets/controls",
          "model_name": "HTMLModel",
          "state": {
            "_view_name": "HTMLView",
            "style": "IPY_MODEL_b4b2ac8774cd4b6d99ff18e1e5e6c31e",
            "_dom_classes": [],
            "description": "",
            "_model_name": "HTMLModel",
            "placeholder": "​",
            "_view_module": "@jupyter-widgets/controls",
            "_model_module_version": "1.5.0",
            "value": " 1182/1182 [1:19:12&lt;00:00,  4.02s/it, loss=0.0489]",
            "_view_count": null,
            "_view_module_version": "1.5.0",
            "description_tooltip": null,
            "_model_module": "@jupyter-widgets/controls",
            "layout": "IPY_MODEL_475a47ce8fd44e04a036d9455d5cf78f"
          }
        },
        "64a9982df43a488ebb28ba7642a31fcd": {
          "model_module": "@jupyter-widgets/controls",
          "model_name": "ProgressStyleModel",
          "state": {
            "_view_name": "StyleView",
            "_model_name": "ProgressStyleModel",
            "description_width": "initial",
            "_view_module": "@jupyter-widgets/base",
            "_model_module_version": "1.5.0",
            "_view_count": null,
            "_view_module_version": "1.2.0",
            "bar_color": null,
            "_model_module": "@jupyter-widgets/controls"
          }
        },
        "e75e45661b2641a89dd6da0f3b927301": {
          "model_module": "@jupyter-widgets/base",
          "model_name": "LayoutModel",
          "state": {
            "_view_name": "LayoutView",
            "grid_template_rows": null,
            "right": null,
            "justify_content": null,
            "_view_module": "@jupyter-widgets/base",
            "overflow": null,
            "_model_module_version": "1.2.0",
            "_view_count": null,
            "flex_flow": null,
            "width": null,
            "min_width": null,
            "border": null,
            "align_items": null,
            "bottom": null,
            "_model_module": "@jupyter-widgets/base",
            "top": null,
            "grid_column": null,
            "overflow_y": null,
            "overflow_x": null,
            "grid_auto_flow": null,
            "grid_area": null,
            "grid_template_columns": null,
            "flex": null,
            "_model_name": "LayoutModel",
            "justify_items": null,
            "grid_row": null,
            "max_height": null,
            "align_content": null,
            "visibility": null,
            "align_self": null,
            "height": null,
            "min_height": null,
            "padding": null,
            "grid_auto_rows": null,
            "grid_gap": null,
            "max_width": null,
            "order": null,
            "_view_module_version": "1.2.0",
            "grid_template_areas": null,
            "object_position": null,
            "object_fit": null,
            "grid_auto_columns": null,
            "margin": null,
            "display": null,
            "left": null
          }
        },
        "b4b2ac8774cd4b6d99ff18e1e5e6c31e": {
          "model_module": "@jupyter-widgets/controls",
          "model_name": "DescriptionStyleModel",
          "state": {
            "_view_name": "StyleView",
            "_model_name": "DescriptionStyleModel",
            "description_width": "",
            "_view_module": "@jupyter-widgets/base",
            "_model_module_version": "1.5.0",
            "_view_count": null,
            "_view_module_version": "1.2.0",
            "_model_module": "@jupyter-widgets/controls"
          }
        },
        "475a47ce8fd44e04a036d9455d5cf78f": {
          "model_module": "@jupyter-widgets/base",
          "model_name": "LayoutModel",
          "state": {
            "_view_name": "LayoutView",
            "grid_template_rows": null,
            "right": null,
            "justify_content": null,
            "_view_module": "@jupyter-widgets/base",
            "overflow": null,
            "_model_module_version": "1.2.0",
            "_view_count": null,
            "flex_flow": null,
            "width": null,
            "min_width": null,
            "border": null,
            "align_items": null,
            "bottom": null,
            "_model_module": "@jupyter-widgets/base",
            "top": null,
            "grid_column": null,
            "overflow_y": null,
            "overflow_x": null,
            "grid_auto_flow": null,
            "grid_area": null,
            "grid_template_columns": null,
            "flex": null,
            "_model_name": "LayoutModel",
            "justify_items": null,
            "grid_row": null,
            "max_height": null,
            "align_content": null,
            "visibility": null,
            "align_self": null,
            "height": null,
            "min_height": null,
            "padding": null,
            "grid_auto_rows": null,
            "grid_gap": null,
            "max_width": null,
            "order": null,
            "_view_module_version": "1.2.0",
            "grid_template_areas": null,
            "object_position": null,
            "object_fit": null,
            "grid_auto_columns": null,
            "margin": null,
            "display": null,
            "left": null
          }
        },
        "8a5ba28fc122458c8c092a24566f2bb9": {
          "model_module": "@jupyter-widgets/controls",
          "model_name": "HBoxModel",
          "state": {
            "_view_name": "HBoxView",
            "_dom_classes": [],
            "_model_name": "HBoxModel",
            "_view_module": "@jupyter-widgets/controls",
            "_model_module_version": "1.5.0",
            "_view_count": null,
            "_view_module_version": "1.5.0",
            "box_style": "",
            "layout": "IPY_MODEL_aa8f63423d1f4bcfbfed68f6f08f24d4",
            "_model_module": "@jupyter-widgets/controls",
            "children": [
              "IPY_MODEL_814ab195c407493a889f98ae199e9b74",
              "IPY_MODEL_06dc2716793b4b469b71136caa168e2f"
            ]
          }
        },
        "aa8f63423d1f4bcfbfed68f6f08f24d4": {
          "model_module": "@jupyter-widgets/base",
          "model_name": "LayoutModel",
          "state": {
            "_view_name": "LayoutView",
            "grid_template_rows": null,
            "right": null,
            "justify_content": null,
            "_view_module": "@jupyter-widgets/base",
            "overflow": null,
            "_model_module_version": "1.2.0",
            "_view_count": null,
            "flex_flow": null,
            "width": null,
            "min_width": null,
            "border": null,
            "align_items": null,
            "bottom": null,
            "_model_module": "@jupyter-widgets/base",
            "top": null,
            "grid_column": null,
            "overflow_y": null,
            "overflow_x": null,
            "grid_auto_flow": null,
            "grid_area": null,
            "grid_template_columns": null,
            "flex": null,
            "_model_name": "LayoutModel",
            "justify_items": null,
            "grid_row": null,
            "max_height": null,
            "align_content": null,
            "visibility": null,
            "align_self": null,
            "height": null,
            "min_height": null,
            "padding": null,
            "grid_auto_rows": null,
            "grid_gap": null,
            "max_width": null,
            "order": null,
            "_view_module_version": "1.2.0",
            "grid_template_areas": null,
            "object_position": null,
            "object_fit": null,
            "grid_auto_columns": null,
            "margin": null,
            "display": null,
            "left": null
          }
        },
        "814ab195c407493a889f98ae199e9b74": {
          "model_module": "@jupyter-widgets/controls",
          "model_name": "FloatProgressModel",
          "state": {
            "_view_name": "ProgressView",
            "style": "IPY_MODEL_8b38dc5fdead4e87937e0fc5fd83a945",
            "_dom_classes": [],
            "description": "  0%",
            "_model_name": "FloatProgressModel",
            "bar_style": "danger",
            "max": 415,
            "_view_module": "@jupyter-widgets/controls",
            "_model_module_version": "1.5.0",
            "value": 0,
            "_view_count": null,
            "_view_module_version": "1.5.0",
            "orientation": "horizontal",
            "min": 0,
            "description_tooltip": null,
            "_model_module": "@jupyter-widgets/controls",
            "layout": "IPY_MODEL_622fa99b9c0f4f7681c60dd6c1c72a19"
          }
        },
        "06dc2716793b4b469b71136caa168e2f": {
          "model_module": "@jupyter-widgets/controls",
          "model_name": "HTMLModel",
          "state": {
            "_view_name": "HTMLView",
            "style": "IPY_MODEL_a23d704ce552420f864eb50b55fd7120",
            "_dom_classes": [],
            "description": "",
            "_model_name": "HTMLModel",
            "placeholder": "​",
            "_view_module": "@jupyter-widgets/controls",
            "_model_module_version": "1.5.0",
            "value": " 0/415 [00:00&lt;?, ?it/s]",
            "_view_count": null,
            "_view_module_version": "1.5.0",
            "description_tooltip": null,
            "_model_module": "@jupyter-widgets/controls",
            "layout": "IPY_MODEL_951262c9dc8d488ea10a94718cfb8860"
          }
        },
        "8b38dc5fdead4e87937e0fc5fd83a945": {
          "model_module": "@jupyter-widgets/controls",
          "model_name": "ProgressStyleModel",
          "state": {
            "_view_name": "StyleView",
            "_model_name": "ProgressStyleModel",
            "description_width": "initial",
            "_view_module": "@jupyter-widgets/base",
            "_model_module_version": "1.5.0",
            "_view_count": null,
            "_view_module_version": "1.2.0",
            "bar_color": null,
            "_model_module": "@jupyter-widgets/controls"
          }
        },
        "622fa99b9c0f4f7681c60dd6c1c72a19": {
          "model_module": "@jupyter-widgets/base",
          "model_name": "LayoutModel",
          "state": {
            "_view_name": "LayoutView",
            "grid_template_rows": null,
            "right": null,
            "justify_content": null,
            "_view_module": "@jupyter-widgets/base",
            "overflow": null,
            "_model_module_version": "1.2.0",
            "_view_count": null,
            "flex_flow": null,
            "width": null,
            "min_width": null,
            "border": null,
            "align_items": null,
            "bottom": null,
            "_model_module": "@jupyter-widgets/base",
            "top": null,
            "grid_column": null,
            "overflow_y": null,
            "overflow_x": null,
            "grid_auto_flow": null,
            "grid_area": null,
            "grid_template_columns": null,
            "flex": null,
            "_model_name": "LayoutModel",
            "justify_items": null,
            "grid_row": null,
            "max_height": null,
            "align_content": null,
            "visibility": null,
            "align_self": null,
            "height": null,
            "min_height": null,
            "padding": null,
            "grid_auto_rows": null,
            "grid_gap": null,
            "max_width": null,
            "order": null,
            "_view_module_version": "1.2.0",
            "grid_template_areas": null,
            "object_position": null,
            "object_fit": null,
            "grid_auto_columns": null,
            "margin": null,
            "display": null,
            "left": null
          }
        },
        "a23d704ce552420f864eb50b55fd7120": {
          "model_module": "@jupyter-widgets/controls",
          "model_name": "DescriptionStyleModel",
          "state": {
            "_view_name": "StyleView",
            "_model_name": "DescriptionStyleModel",
            "description_width": "",
            "_view_module": "@jupyter-widgets/base",
            "_model_module_version": "1.5.0",
            "_view_count": null,
            "_view_module_version": "1.2.0",
            "_model_module": "@jupyter-widgets/controls"
          }
        },
        "951262c9dc8d488ea10a94718cfb8860": {
          "model_module": "@jupyter-widgets/base",
          "model_name": "LayoutModel",
          "state": {
            "_view_name": "LayoutView",
            "grid_template_rows": null,
            "right": null,
            "justify_content": null,
            "_view_module": "@jupyter-widgets/base",
            "overflow": null,
            "_model_module_version": "1.2.0",
            "_view_count": null,
            "flex_flow": null,
            "width": null,
            "min_width": null,
            "border": null,
            "align_items": null,
            "bottom": null,
            "_model_module": "@jupyter-widgets/base",
            "top": null,
            "grid_column": null,
            "overflow_y": null,
            "overflow_x": null,
            "grid_auto_flow": null,
            "grid_area": null,
            "grid_template_columns": null,
            "flex": null,
            "_model_name": "LayoutModel",
            "justify_items": null,
            "grid_row": null,
            "max_height": null,
            "align_content": null,
            "visibility": null,
            "align_self": null,
            "height": null,
            "min_height": null,
            "padding": null,
            "grid_auto_rows": null,
            "grid_gap": null,
            "max_width": null,
            "order": null,
            "_view_module_version": "1.2.0",
            "grid_template_areas": null,
            "object_position": null,
            "object_fit": null,
            "grid_auto_columns": null,
            "margin": null,
            "display": null,
            "left": null
          }
        }
      }
    }
  },
  "cells": [
    {
      "cell_type": "markdown",
      "metadata": {
        "id": "view-in-github",
        "colab_type": "text"
      },
      "source": [
        "<a href=\"https://colab.research.google.com/github/rajprakrit/ML-Library-1/blob/master/Age.ipynb\" target=\"_parent\"><img src=\"https://colab.research.google.com/assets/colab-badge.svg\" alt=\"Open In Colab\"/></a>"
      ]
    },
    {
      "cell_type": "markdown",
      "metadata": {
        "id": "_xam1COLjPAS",
        "colab_type": "text"
      },
      "source": [
        "##Drive Mount\n"
      ]
    },
    {
      "cell_type": "code",
      "metadata": {
        "id": "1Z-MYP3yo-mU",
        "colab_type": "code",
        "outputId": "2d63be5b-55da-40e6-f9f2-9a51138dc635",
        "colab": {
          "base_uri": "https://localhost:8080/",
          "height": 121
        }
      },
      "source": [
        "from google.colab import drive\n",
        "drive.mount('/content/drive')"
      ],
      "execution_count": 1,
      "outputs": [
        {
          "output_type": "stream",
          "text": [
            "Go to this URL in a browser: https://accounts.google.com/o/oauth2/auth?client_id=947318989803-6bn6qk8qdgf4n4g3pfee6491hc0brc4i.apps.googleusercontent.com&redirect_uri=urn%3aietf%3awg%3aoauth%3a2.0%3aoob&response_type=code&scope=email%20https%3a%2f%2fwww.googleapis.com%2fauth%2fdocs.test%20https%3a%2f%2fwww.googleapis.com%2fauth%2fdrive%20https%3a%2f%2fwww.googleapis.com%2fauth%2fdrive.photos.readonly%20https%3a%2f%2fwww.googleapis.com%2fauth%2fpeopleapi.readonly\n",
            "\n",
            "Enter your authorization code:\n",
            "··········\n",
            "Mounted at /content/drive\n"
          ],
          "name": "stdout"
        }
      ]
    },
    {
      "cell_type": "markdown",
      "metadata": {
        "id": "Q5kuUNB6iAna",
        "colab_type": "text"
      },
      "source": [
        "#PART I\n"
      ]
    },
    {
      "cell_type": "code",
      "metadata": {
        "id": "GWxLaLm_lO4D",
        "colab_type": "code",
        "outputId": "cd8f5883-c75f-4902-fed7-8afffcbfb80e",
        "colab": {
          "base_uri": "https://localhost:8080/",
          "height": 238
        }
      },
      "source": [
        "!pip install efficientnet_pytorch"
      ],
      "execution_count": 2,
      "outputs": [
        {
          "output_type": "stream",
          "text": [
            "Collecting efficientnet_pytorch\n",
            "  Downloading https://files.pythonhosted.org/packages/b8/cb/0309a6e3d404862ae4bc017f89645cf150ac94c14c88ef81d215c8e52925/efficientnet_pytorch-0.6.3.tar.gz\n",
            "Requirement already satisfied: torch in /usr/local/lib/python3.6/dist-packages (from efficientnet_pytorch) (1.5.0+cu101)\n",
            "Requirement already satisfied: future in /usr/local/lib/python3.6/dist-packages (from torch->efficientnet_pytorch) (0.16.0)\n",
            "Requirement already satisfied: numpy in /usr/local/lib/python3.6/dist-packages (from torch->efficientnet_pytorch) (1.18.4)\n",
            "Building wheels for collected packages: efficientnet-pytorch\n",
            "  Building wheel for efficientnet-pytorch (setup.py) ... \u001b[?25l\u001b[?25hdone\n",
            "  Created wheel for efficientnet-pytorch: filename=efficientnet_pytorch-0.6.3-cp36-none-any.whl size=12422 sha256=297b2e5f782d491d8f7c25cc133e1fd657ebd8d173be2560c24ee0cbd23fd9a0\n",
            "  Stored in directory: /root/.cache/pip/wheels/42/1e/a9/2a578ba9ad04e776e80bf0f70d8a7f4c29ec0718b92d8f6ccd\n",
            "Successfully built efficientnet-pytorch\n",
            "Installing collected packages: efficientnet-pytorch\n",
            "Successfully installed efficientnet-pytorch-0.6.3\n"
          ],
          "name": "stdout"
        }
      ]
    },
    {
      "cell_type": "code",
      "metadata": {
        "id": "2ub9LjdAMExy",
        "colab_type": "code",
        "outputId": "315329b7-4b4c-4945-9356-69d5589133fd",
        "colab": {
          "base_uri": "https://localhost:8080/",
          "height": 205
        }
      },
      "source": [
        "! pip install git+https://github.com/ildoonet/cutmix ##not useful for this data"
      ],
      "execution_count": 3,
      "outputs": [
        {
          "output_type": "stream",
          "text": [
            "Collecting git+https://github.com/ildoonet/cutmix\n",
            "  Cloning https://github.com/ildoonet/cutmix to /tmp/pip-req-build-28kw5ynj\n",
            "  Running command git clone -q https://github.com/ildoonet/cutmix /tmp/pip-req-build-28kw5ynj\n",
            "Building wheels for collected packages: cutmix\n",
            "  Building wheel for cutmix (setup.py) ... \u001b[?25l\u001b[?25hdone\n",
            "  Created wheel for cutmix: filename=cutmix-0.1-cp36-none-any.whl size=3602 sha256=63bc484d115beb053b54e805d6431803f492e36245bfc8e9cdea439cb7516d0d\n",
            "  Stored in directory: /tmp/pip-ephem-wheel-cache-d2kjxu1u/wheels/8a/40/20/615302921d0fef73e55b17b5dd57169d4879dfe6dd7ad8ff50\n",
            "Successfully built cutmix\n",
            "Installing collected packages: cutmix\n",
            "Successfully installed cutmix-0.1\n"
          ],
          "name": "stdout"
        }
      ]
    },
    {
      "cell_type": "code",
      "metadata": {
        "id": "eW7x3VhqSh-g",
        "colab_type": "code",
        "outputId": "1b883d37-bc63-49b0-91d2-f2af97575861",
        "colab": {
          "base_uri": "https://localhost:8080/",
          "height": 356
        }
      },
      "source": [
        "!pip install pretrainedmodels"
      ],
      "execution_count": 4,
      "outputs": [
        {
          "output_type": "stream",
          "text": [
            "Collecting pretrainedmodels\n",
            "\u001b[?25l  Downloading https://files.pythonhosted.org/packages/84/0e/be6a0e58447ac16c938799d49bfb5fb7a80ac35e137547fc6cee2c08c4cf/pretrainedmodels-0.7.4.tar.gz (58kB)\n",
            "\r\u001b[K     |█████▋                          | 10kB 20.9MB/s eta 0:00:01\r\u001b[K     |███████████▏                    | 20kB 1.8MB/s eta 0:00:01\r\u001b[K     |████████████████▊               | 30kB 2.3MB/s eta 0:00:01\r\u001b[K     |██████████████████████▎         | 40kB 2.6MB/s eta 0:00:01\r\u001b[K     |███████████████████████████▉    | 51kB 2.0MB/s eta 0:00:01\r\u001b[K     |████████████████████████████████| 61kB 1.9MB/s \n",
            "\u001b[?25hRequirement already satisfied: torch in /usr/local/lib/python3.6/dist-packages (from pretrainedmodels) (1.5.0+cu101)\n",
            "Requirement already satisfied: torchvision in /usr/local/lib/python3.6/dist-packages (from pretrainedmodels) (0.6.0+cu101)\n",
            "Collecting munch\n",
            "  Downloading https://files.pythonhosted.org/packages/cc/ab/85d8da5c9a45e072301beb37ad7f833cd344e04c817d97e0cc75681d248f/munch-2.5.0-py2.py3-none-any.whl\n",
            "Requirement already satisfied: tqdm in /usr/local/lib/python3.6/dist-packages (from pretrainedmodels) (4.41.1)\n",
            "Requirement already satisfied: numpy in /usr/local/lib/python3.6/dist-packages (from torch->pretrainedmodels) (1.18.4)\n",
            "Requirement already satisfied: future in /usr/local/lib/python3.6/dist-packages (from torch->pretrainedmodels) (0.16.0)\n",
            "Requirement already satisfied: pillow>=4.1.1 in /usr/local/lib/python3.6/dist-packages (from torchvision->pretrainedmodels) (7.0.0)\n",
            "Requirement already satisfied: six in /usr/local/lib/python3.6/dist-packages (from munch->pretrainedmodels) (1.12.0)\n",
            "Building wheels for collected packages: pretrainedmodels\n",
            "  Building wheel for pretrainedmodels (setup.py) ... \u001b[?25l\u001b[?25hdone\n",
            "  Created wheel for pretrainedmodels: filename=pretrainedmodels-0.7.4-cp36-none-any.whl size=60962 sha256=f2b81fa3de61e83def6d5178f781d4210c1d910eecdb63a54029b1ea0dad17c8\n",
            "  Stored in directory: /root/.cache/pip/wheels/69/df/63/62583c096289713f22db605aa2334de5b591d59861a02c2ecd\n",
            "Successfully built pretrainedmodels\n",
            "Installing collected packages: munch, pretrainedmodels\n",
            "Successfully installed munch-2.5.0 pretrainedmodels-0.7.4\n"
          ],
          "name": "stdout"
        }
      ]
    },
    {
      "cell_type": "code",
      "metadata": {
        "id": "VWJW95yTlYaK",
        "colab_type": "code",
        "colab": {}
      },
      "source": [
        "from __future__ import print_function, division\n",
        "import os\n",
        "import cv2\n",
        "from PIL import Image\n",
        "import pdb\n",
        "import time\n",
        "import copy\n",
        "import warnings\n",
        "import random\n",
        "import numpy as np\n",
        "import pandas as pd\n",
        "from tqdm import tqdm_notebook as tqdm\n",
        "from torch.optim.lr_scheduler import ReduceLROnPlateau\n",
        "from sklearn.model_selection import train_test_split\n",
        "import torch\n",
        "import torch.nn as nn\n",
        "from torch.nn import functional as F\n",
        "import torch.optim as optim\n",
        "import torch.backends.cudnn as cudnn\n",
        "from torch.utils.data import DataLoader, Dataset, sampler\n",
        "from matplotlib import pyplot as plt\n",
        "from albumentations import (HorizontalFlip,VerticalFlip,RandomScale,CenterCrop, Rotate, ShiftScaleRotate, Normalize, Resize, Compose, GaussNoise,RandomRotate90,Transpose,RandomBrightnessContrast,RandomCrop)\n",
        "from albumentations.pytorch import ToTensor\n",
        "import albumentations as albu\n",
        "import matplotlib.image as mpi\n",
        "#import segmentation_models_pytorch as smp\n",
        "from pathlib import Path\n",
        "from sklearn.metrics import recall_score,f1_score\n",
        "from sklearn.model_selection import StratifiedKFold\n",
        "import gc\n",
        "warnings.filterwarnings(\"ignore\")\n",
        "seed = 69\n",
        "random.seed(seed)\n",
        "os.environ[\"PYTHONHASHSEED\"] = str(seed)\n",
        "np.random.seed(seed)\n",
        "torch.cuda.manual_seed(seed)\n",
        "torch.backends.cudnn.deterministic = True\n",
        "from efficientnet_pytorch import EfficientNet\n",
        "# from cutmix.cutmix import CutMix\n",
        "# from cutmix.utils import CutMixCrossEntropyLoss"
      ],
      "execution_count": 0,
      "outputs": []
    },
    {
      "cell_type": "code",
      "metadata": {
        "id": "H5lff3r3lpqj",
        "colab_type": "code",
        "outputId": "688b5267-13d6-476f-9578-2d64c7b69cba",
        "colab": {
          "base_uri": "https://localhost:8080/",
          "height": 119,
          "referenced_widgets": [
            "91df486fc6fb488fb4a961827353a3d7",
            "17656c0c39d84e79b6bee6db7e11a730",
            "bdb8edcb4f804acd939df96fc64462f2",
            "4d1cf972da164a94b62ae621910d5917",
            "2d353c59d9a04a06bd019f166c7b885c",
            "dd38ee6e1e094c30b74b689a81c32b0f",
            "3618353feb814185a72f154d4b9b8325",
            "18a659324ce84029bed389ae029f7190"
          ]
        }
      },
      "source": [
        "model = EfficientNet.from_pretrained('efficientnet-b0',num_classes=3)"
      ],
      "execution_count": 6,
      "outputs": [
        {
          "output_type": "stream",
          "text": [
            "Downloading: \"https://github.com/lukemelas/EfficientNet-PyTorch/releases/download/1.0/efficientnet-b0-355c32eb.pth\" to /root/.cache/torch/checkpoints/efficientnet-b0-355c32eb.pth\n"
          ],
          "name": "stderr"
        },
        {
          "output_type": "display_data",
          "data": {
            "application/vnd.jupyter.widget-view+json": {
              "model_id": "91df486fc6fb488fb4a961827353a3d7",
              "version_minor": 0,
              "version_major": 2
            },
            "text/plain": [
              "HBox(children=(FloatProgress(value=0.0, max=21388428.0), HTML(value='')))"
            ]
          },
          "metadata": {
            "tags": []
          }
        },
        {
          "output_type": "stream",
          "text": [
            "\n",
            "Loaded pretrained weights for efficientnet-b0\n"
          ],
          "name": "stdout"
        }
      ]
    },
    {
      "cell_type": "code",
      "metadata": {
        "id": "0nWYdF777v9v",
        "colab_type": "code",
        "colab": {}
      },
      "source": [
        "#pretrainedmodels.model_names"
      ],
      "execution_count": 0,
      "outputs": []
    },
    {
      "cell_type": "code",
      "metadata": {
        "id": "W7sM92AzSZEZ",
        "colab_type": "code",
        "colab": {}
      },
      "source": [
        "#import pretrainedmodels\n",
        "#model_name = 'resnet50' # could be fbresnet152 or inceptionresnetv2\n",
        "#model = pretrainedmodels.__dict__[model_name](num_classes=1000, pretrained='imagenet')\n",
        "for param in model.parameters():\n",
        "    param.requires_grad_=False\n",
        "#in_features = model.last_linear.in_features\n",
        "#model.last_linear = nn.Linear(in_features,4)\n",
        "#model.last_linear.requires_grad=True\n",
        "model._fc.requires_grad=True"
      ],
      "execution_count": 0,
      "outputs": []
    },
    {
      "cell_type": "code",
      "metadata": {
        "id": "WqJgUaJWpyCH",
        "colab_type": "code",
        "colab": {}
      },
      "source": [
        "for param in model.parameters():\n",
        "    param.requires_grad = True"
      ],
      "execution_count": 0,
      "outputs": []
    },
    {
      "cell_type": "markdown",
      "metadata": {
        "id": "74l1fshEjkNi",
        "colab_type": "text"
      },
      "source": [
        "#DATA LOADING AND SAMPLE"
      ]
    },
    {
      "cell_type": "code",
      "metadata": {
        "id": "Ps3Dge9ul_Xb",
        "colab_type": "code",
        "outputId": "47a8a5a2-ebe3-4402-a67a-d00b3fe67fb4",
        "colab": {
          "base_uri": "https://localhost:8080/",
          "height": 195
        }
      },
      "source": [
        "import pandas as pd\n",
        "train = pd.read_csv('/content/drive/My Drive/Competitions/Analytics Vidya/Age Detection Of Actors/data/train.csv')\n",
        "train.head(5)"
      ],
      "execution_count": 10,
      "outputs": [
        {
          "output_type": "execute_result",
          "data": {
            "text/html": [
              "<div>\n",
              "<style scoped>\n",
              "    .dataframe tbody tr th:only-of-type {\n",
              "        vertical-align: middle;\n",
              "    }\n",
              "\n",
              "    .dataframe tbody tr th {\n",
              "        vertical-align: top;\n",
              "    }\n",
              "\n",
              "    .dataframe thead th {\n",
              "        text-align: right;\n",
              "    }\n",
              "</style>\n",
              "<table border=\"1\" class=\"dataframe\">\n",
              "  <thead>\n",
              "    <tr style=\"text-align: right;\">\n",
              "      <th></th>\n",
              "      <th>ID</th>\n",
              "      <th>Class</th>\n",
              "    </tr>\n",
              "  </thead>\n",
              "  <tbody>\n",
              "    <tr>\n",
              "      <th>0</th>\n",
              "      <td>377.jpg</td>\n",
              "      <td>MIDDLE</td>\n",
              "    </tr>\n",
              "    <tr>\n",
              "      <th>1</th>\n",
              "      <td>17814.jpg</td>\n",
              "      <td>YOUNG</td>\n",
              "    </tr>\n",
              "    <tr>\n",
              "      <th>2</th>\n",
              "      <td>21283.jpg</td>\n",
              "      <td>MIDDLE</td>\n",
              "    </tr>\n",
              "    <tr>\n",
              "      <th>3</th>\n",
              "      <td>16496.jpg</td>\n",
              "      <td>YOUNG</td>\n",
              "    </tr>\n",
              "    <tr>\n",
              "      <th>4</th>\n",
              "      <td>4487.jpg</td>\n",
              "      <td>MIDDLE</td>\n",
              "    </tr>\n",
              "  </tbody>\n",
              "</table>\n",
              "</div>"
            ],
            "text/plain": [
              "          ID   Class\n",
              "0    377.jpg  MIDDLE\n",
              "1  17814.jpg   YOUNG\n",
              "2  21283.jpg  MIDDLE\n",
              "3  16496.jpg   YOUNG\n",
              "4   4487.jpg  MIDDLE"
            ]
          },
          "metadata": {
            "tags": []
          },
          "execution_count": 10
        }
      ]
    },
    {
      "cell_type": "code",
      "metadata": {
        "id": "77o1JX9gvpzq",
        "colab_type": "code",
        "outputId": "6a176933-18ed-4988-bc25-9785919a637d",
        "colab": {
          "base_uri": "https://localhost:8080/",
          "height": 34
        }
      },
      "source": [
        "train.columns"
      ],
      "execution_count": 11,
      "outputs": [
        {
          "output_type": "execute_result",
          "data": {
            "text/plain": [
              "Index(['ID', 'Class'], dtype='object')"
            ]
          },
          "metadata": {
            "tags": []
          },
          "execution_count": 11
        }
      ]
    },
    {
      "cell_type": "code",
      "metadata": {
        "id": "iSgQsS7XmWpC",
        "colab_type": "code",
        "outputId": "827e1395-108c-42ac-962f-4b7649aa16a9",
        "colab": {
          "base_uri": "https://localhost:8080/",
          "height": 536
        }
      },
      "source": [
        "for i in range(2):\n",
        "  img = cv2.imread('/content/drive/My Drive/Competitions/Analytics Vidya/Age Detection Of Actors/data/Train/'+str(train.iloc[i,0]))\n",
        "  # img = cv2.resize(img,(img.shape[1]*2,img.shape[0]*2))\n",
        "  plt.imshow(img)\n",
        "  plt.figure()"
      ],
      "execution_count": 13,
      "outputs": [
        {
          "output_type": "display_data",
          "data": {
            "image/png": "[encoded data removed]",
            "text/plain": [
              "<Figure size 432x288 with 1 Axes>"
            ]
          },
          "metadata": {
            "tags": [],
            "needs_background": "light"
          }
        },
        {
          "output_type": "display_data",
          "data": {
            "image/png": "[encoded data removed]",
            "text/plain": [
              "<Figure size 432x288 with 1 Axes>"
            ]
          },
          "metadata": {
            "tags": [],
            "needs_background": "light"
          }
        },
        {
          "output_type": "display_data",
          "data": {
            "text/plain": [
              "<Figure size 432x288 with 0 Axes>"
            ]
          },
          "metadata": {
            "tags": []
          }
        }
      ]
    },
    {
      "cell_type": "code",
      "metadata": {
        "id": "g2wh2Vk18v_o",
        "colab_type": "code",
        "outputId": "61d2b4a1-090a-4dcc-9e80-07d285354e84",
        "colab": {
          "base_uri": "https://localhost:8080/",
          "height": 285
        }
      },
      "source": [
        "img = cv2.imread('/content/drive/My Drive/Competitions/Analytics Vidya/Age Detection Of Actors/data/Train/'+str(train.iloc[9,0]))\n",
        "aug1 = Compose([GaussNoise(),\n",
        "                  #  RandomBrightnessContrast(p=0.5),\n",
        "                   VerticalFlip(p=0.4),\n",
        "                   #RandomCrop(40,40,p=0.5),\n",
        "                  #  CenterCrop(80,80,p=1),\n",
        "                   HorizontalFlip(),\n",
        "                   #ShiftScaleRotate(shift_limit=0.001, scale_limit=-1.22, rotate_limit=30, interpolation=2, border_mode=.1, p=1),\n",
        "                   Rotate(limit=60,p=1)\n",
        "                   ])(image=img)\n",
        "img = aug1['image']\n",
        "# img = cv2.resize(img, (128, 128))\n",
        "plt.imshow(img)"
      ],
      "execution_count": 20,
      "outputs": [
        {
          "output_type": "execute_result",
          "data": {
            "text/plain": [
              "<matplotlib.image.AxesImage at 0x7f4ead69ae10>"
            ]
          },
          "metadata": {
            "tags": []
          },
          "execution_count": 20
        },
        {
          "output_type": "display_data",
          "data": {
            "image/png": "[encoded data removed]",
            "text/plain": [
              "<Figure size 432x288 with 1 Axes>"
            ]
          },
          "metadata": {
            "tags": [],
            "needs_background": "light"
          }
        }
      ]
    },
    {
      "cell_type": "code",
      "metadata": {
        "id": "xx3AJMaRmI5X",
        "colab_type": "code",
        "outputId": "8daa4888-1d32-4dba-fd99-733e2d8e4470",
        "colab": {
          "base_uri": "https://localhost:8080/",
          "height": 84
        }
      },
      "source": [
        "train.Class.value_counts()"
      ],
      "execution_count": 21,
      "outputs": [
        {
          "output_type": "execute_result",
          "data": {
            "text/plain": [
              "MIDDLE    10804\n",
              "YOUNG      6706\n",
              "OLD        2396\n",
              "Name: Class, dtype: int64"
            ]
          },
          "metadata": {
            "tags": []
          },
          "execution_count": 21
        }
      ]
    },
    {
      "cell_type": "markdown",
      "metadata": {
        "id": "7VDOR-N4kLuE",
        "colab_type": "text"
      },
      "source": [
        "#DATALOADER"
      ]
    },
    {
      "cell_type": "code",
      "metadata": {
        "id": "YNtHROIcltw7",
        "colab_type": "code",
        "colab": {}
      },
      "source": [
        "class Dataset(Dataset):\n",
        "    def __init__(self, df, data_folder, mean, std, phase):\n",
        "        self.df = df\n",
        "        self.root = data_folder\n",
        "        self.mean = mean\n",
        "        self.std = std\n",
        "        self.phase = phase\n",
        "        self.transforms = get_transforms(phase, mean, std)\n",
        "        self.transforms2 = get_transforms2(mean, std)\n",
        "        self.fnames = self.df.index\n",
        "\n",
        "    def __getitem__(self, idx):\n",
        "        #print(self.df.columns)\n",
        "        image_id = self.df[\"ID\"].iloc[idx]\n",
        "        image_path = os.path.join(self.root,  image_id)\n",
        "        img = cv2.imread(image_path)\n",
        "        img = cv2.resize(img,(128,128))\n",
        "        \n",
        "    \n",
        "        label = np.asarray(self.df.iloc[idx].iloc[1:]).astype(np.uint8)\n",
        "        \n",
        "\n",
        "        augmented = self.transforms(image=img)\n",
        "        img = augmented['image']\n",
        "        \n",
        "        return img,label\n",
        "\n",
        "    def __len__(self):\n",
        "        return len(self.fnames)\n",
        "\n",
        "\n",
        "\n",
        "def get_transforms(phase, mean, std):\n",
        "    list_transforms = []\n",
        "    if phase == 'train':\n",
        "        list_transforms.extend(\n",
        "                  [#GaussNoise(p=0.5),\n",
        "                  #  RandomBrightnessContrast(p=0.5),\n",
        "                   VerticalFlip(p=0.4),\n",
        "                   #RandomCrop(40,40,p=0.5),\n",
        "                  #  CenterCrop(40,30,p=0.5),\n",
        "                   HorizontalFlip(),\n",
        "                   #ShiftScaleRotate(shift_limit=0.001, scale_limit=-1.22, rotate_limit=30, interpolation=2, border_mode=.1, p=1),\n",
        "                   Rotate(limit=45,p=.5)\n",
        "                   ]\n",
        "        )\n",
        "    list_transforms.extend(\n",
        "        [ \n",
        "            # Resize(128,128,interpolation = 2),\n",
        "            Normalize(mean=mean, std=std, p=1),\n",
        "            ToTensor(),\n",
        "        ]\n",
        "    )\n",
        "    list_trfms = Compose(list_transforms)\n",
        "    return list_trfms\n",
        "def get_transforms2( mean, std):\n",
        "    list_transforms = []\n",
        "    list_transforms.extend(\n",
        "        [ \n",
        "            \n",
        "            # Resize(128,128,interpolation = 2),\n",
        "            Normalize(mean=mean, std=std, p=1),\n",
        "            ToTensor(),\n",
        "        ]\n",
        "    )\n",
        "    list_trfms = Compose(list_transforms)\n",
        "    return list_trfms\n",
        "def crop_char_image3(image, threshold=80):\n",
        "    assert image.ndim == 2\n",
        "    is_black = image > threshold\n",
        "\n",
        "    is_black_vertical = np.sum(is_black, axis=0) > 0\n",
        "    is_black_horizontal = np.sum(is_black, axis=1) > 0\n",
        "    left = np.argmax(is_black_horizontal)\n",
        "    right = np.argmax(is_black_horizontal[::-1])\n",
        "    top = np.argmax(is_black_vertical)\n",
        "    bottom = np.argmax(is_black_vertical[::-1])\n",
        "    height, width = image.shape\n",
        "    cropped_image = image[left:height - right, top:width - bottom]\n",
        "    return cropped_image\n",
        "\n",
        "def provider(\n",
        "    data_folder,\n",
        "    df_path,\n",
        "    phase,\n",
        "    mean=None,\n",
        "    std=None,\n",
        "    batch_size=8,\n",
        "    num_workers=0,\n",
        "):\n",
        "    '''Returns dataloader for the model training'''\n",
        "    data = pd.read_csv(df_path)\n",
        "    \n",
        "    label = data['Class']\n",
        "    data2 = pd.get_dummies(label)\n",
        "   \n",
        "\n",
        "    data=data.drop(columns=['Class'])\n",
        "    data=pd.concat([data,data2],axis=1)\n",
        "\n",
        "    train_df, val_df = train_test_split(data, test_size=0.95,stratify=label)\n",
        "    df = train_df if phase == \"train\" else val_df\n",
        "    image_dataset = Dataset(df, data_folder, mean, std, phase)\n",
        "    \n",
        "   \n",
        "    \n",
        "    dataloader = DataLoader(\n",
        "        #dataset,\n",
        "        image_dataset,\n",
        "        batch_size=batch_size,\n",
        "        num_workers=num_workers,\n",
        "        pin_memory=False,\n",
        "        shuffle=True,   \n",
        "    )\n",
        "    return dataloader"
      ],
      "execution_count": 0,
      "outputs": []
    },
    {
      "cell_type": "code",
      "metadata": {
        "id": "IhFSJHIqoCth",
        "colab_type": "code",
        "colab": {}
      },
      "source": [
        "bs = 16\n",
        "def predict(X, threshold):\n",
        "    '''X is sigmoid output of the model'''\n",
        "    X_p = np.copy(X)\n",
        "    preds = (X_p > threshold).astype('uint8')\n",
        "    return preds\n",
        "\n",
        "def metric(probs, t, threshold=0.5, reduction='none'):\n",
        "    '''Calculates dice of positive and negative images seperately'''\n",
        "    '''probability and truth must be torch tensors'''\n",
        "    batch_size = len(t)\n",
        "    with torch.no_grad():\n",
        "        \n",
        "        t = (t ).float().cpu()\n",
        "        pt = probs.argmax(dim=1)\n",
        "        tt = t.argmax(dim=1)\n",
        "        \n",
        "        csum = (pt==tt).sum().float()\n",
        "        acc  = csum/batch_size\n",
        "        f1_sc = f1_score(tt,pt,average='weighted')*100\n",
        "        \n",
        "    return acc,f1_sc\n",
        "\n",
        "class Meter:\n",
        "    '''A meter to keep track of iou and dice scores throughout an epoch'''\n",
        "    def __init__(self, phase, epoch):\n",
        "        self.base_threshold = 0.5 # <<<<<<<<<<< here's the threshold\n",
        "        self.phase = phase\n",
        "        self.accuracy = []\n",
        "        self.f1 = []\n",
        "       \n",
        "\n",
        "    def update(self, targets, outputs):\n",
        "\n",
        "        acc,f1_sc = metric(outputs, targets, self.base_threshold)\n",
        "        self.accuracy.append(acc)\n",
        "        self.f1.append(f1_sc)\n",
        "        \n",
        "    def get_metrics(self):\n",
        "        acc = np.mean(self.accuracy)\n",
        "        f1 = np.mean(self.f1)\n",
        "        \n",
        "        return acc,f1\n",
        "\n",
        "def epoch_log(phase, epoch, epoch_loss, meter, start):\n",
        "    '''logging the metrics at the end of an epoch'''\n",
        "    acc,f1 = meter.get_metrics()\n",
        "  \n",
        "    print(\"Loss: %0.4f  | acc: %0.4f  | 100*f1_score: %0.4f \" % (epoch_loss, acc, f1))\n",
        "    \n",
        "    return acc,f1\n",
        "    \n",
        "\n",
        "def compute_ious(pred, label, classes, ignore_index=255, only_present=True):\n",
        "    '''computes iou for one ground truth mask and predicted mask'''\n",
        "    pred[label == ignore_index] = 0\n",
        "    ious = []\n",
        "    for c in classes:\n",
        "        label_c = label == c\n",
        "        if only_present and np.sum(label_c) == 0:\n",
        "            ious.append(np.nan)\n",
        "            continue\n",
        "        pred_c = pred == c\n",
        "        intersection = np.logical_and(pred_c, label_c).sum()\n",
        "        union = np.logical_or(pred_c, label_c).sum()\n",
        "        if union != 0:\n",
        "            ious.append(intersection / union)\n",
        "    return ious if ious else [1]\n",
        "\n",
        "def compute_iou_batch(outputs, labels, classes=None):\n",
        "    '''computes mean iou for a batch of ground truth masks and predicted masks'''\n",
        "    ious = []\n",
        "    preds = np.copy(outputs) # copy is imp\n",
        "    labels = np.array(labels) # tensor to np\n",
        "    for pred, label in zip(preds, labels):\n",
        "        ious.append(np.nanmean(compute_ious(pred, label, classes)))\n",
        "    iou = np.nanmean(ious)\n",
        "    return iou\n"
      ],
      "execution_count": 0,
      "outputs": []
    },
    {
      "cell_type": "code",
      "metadata": {
        "id": "BjCZ05lGqq7_",
        "colab_type": "code",
        "colab": {}
      },
      "source": [
        "##Class weights\n",
        "df = train\n",
        "df.head()\n",
        "x = df[\"Class\"].value_counts()\n",
        "class_wts = [0]*3\n",
        "for i in range(len(x)):\n",
        "    class_wts[i]=x.values[i]\n",
        "maxi = max(class_wts)\n",
        "for i in range(len(class_wts)):\n",
        "    class_wts[i]=np.exp(-class_wts[i]/maxi)"
      ],
      "execution_count": 0,
      "outputs": []
    },
    {
      "cell_type": "code",
      "metadata": {
        "id": "CPPR10RvrBLt",
        "colab_type": "code",
        "colab": {}
      },
      "source": [
        "class_wts = torch.Tensor(class_wts)"
      ],
      "execution_count": 0,
      "outputs": []
    },
    {
      "cell_type": "code",
      "metadata": {
        "id": "v2KG4GChRh5E",
        "colab_type": "code",
        "colab": {}
      },
      "source": [
        "device = torch.device(\"cuda\")\n",
        "class_wts = class_wts.to(device)"
      ],
      "execution_count": 0,
      "outputs": []
    },
    {
      "cell_type": "code",
      "metadata": {
        "id": "XjetbjYdrFBV",
        "colab_type": "code",
        "colab": {}
      },
      "source": [
        " class Trainer(object):\n",
        "    '''This class takes care of training and validation of our model'''\n",
        "    def __init__(self, model,dataloader=None,lr=3e-3, epochs = 10):\n",
        "        self.num_workers = 0\n",
        "        self.batch_size = {\"train\": 16, \"val\": 16}\n",
        "        self.accumulation_steps = 1\n",
        "        self.lr = lr\n",
        "        self.model_name = 'b0_aug.128X128'\n",
        "        self.num_epochs = epochs\n",
        "        self.best_loss = float(\"inf\")\n",
        "        self.phases = [\"train\", \"val\"]\n",
        "        self.device = torch.device(\"cuda:0\")\n",
        "        torch.set_default_tensor_type(\"torch.cuda.FloatTensor\")\n",
        "        self.net = model\n",
        "\n",
        "        self.criterion = torch.nn.BCEWithLogitsLoss(weight=class_wts)\n",
        "        \n",
        "        self.optimizer = optim.Adam(self.net.parameters(), lr=self.lr)\n",
        "        \n",
        "        self.scheduler = ReduceLROnPlateau(self.optimizer,factor=0.33, mode=\"min\", patience=3, verbose=True)\n",
        "        self.net = self.net.to(self.device)\n",
        "        cudnn.benchmark = True\n",
        "        \n",
        "\n",
        "        self.dataloaders = {\n",
        "            phase: provider(\n",
        "                data_folder=data_folder,\n",
        "                df_path=train_df_path,\n",
        "                phase=phase,\n",
        "                mean=(0.485, 0.456, 0.406),\n",
        "                std=(0.229, 0.224, 0.225),\n",
        "                batch_size=self.batch_size[phase],\n",
        "                num_workers=self.num_workers,\n",
        "            )\n",
        "            for phase in self.phases\n",
        "        }\n",
        "        self.losses = {phase: [] for phase in self.phases}\n",
        "        self.acc_scores = {phase: [] for phase in self.phases}\n",
        "        self.f1_scores = {phase: [] for phase in self.phases}\n",
        "\n",
        "    def forward(self, images, targets):\n",
        "        images = images.to(self.device)\n",
        "\n",
        "        masks = targets.to(self.device)\n",
        "        masks = masks.float()\n",
        "\n",
        "        outputs = self.net(images)\n",
        "\n",
        "        loss = self.criterion(outputs,masks)\n",
        "       \n",
        "        '''  after few epochs loss = \"0.25*bce+0.75*dice\"\n",
        "        \n",
        "        d1,d2,d3 = metric(outputs, mask, threshold=0.5, reduction='none')\n",
        "        loss =  0.25*self.criterion(outputs.permute(0,2,3,1), masks.permute(0,2,3,1)) +0.75*(1-d1)\n",
        "        \n",
        "        '''\n",
        "\n",
        "        return loss, outputs\n",
        "\n",
        "    def iterate(self, epoch, phase):\n",
        "        meter = Meter(phase, epoch)\n",
        "        start = time.strftime(\"%H:%M:%S\")\n",
        "        print(f\"Starting epoch: {epoch} | phase: {phase} | ⏰: {start}\")\n",
        "        batch_size = self.batch_size[phase]\n",
        "        self.net.train(phase == \"train\")\n",
        "        dataloader = self.dataloaders[phase]\n",
        "        running_loss = 0.0\n",
        "        total_batches = len(dataloader)\n",
        "        tk0 = tqdm(dataloader, total=total_batches)\n",
        "        self.optimizer.zero_grad()\n",
        "\n",
        "        for itr, batch in enumerate(tk0):\n",
        "                \n",
        "            img1, targets = batch\n",
        "\n",
        "            loss, outputs = self.forward(img1, targets)\n",
        "           \n",
        "            \n",
        "            loss = loss / self.accumulation_steps\n",
        "\n",
        "            if phase == \"train\":\n",
        "                loss.backward()\n",
        "                if (itr + 1 ) % self.accumulation_steps == 0:\n",
        "                    self.optimizer.step()\n",
        "                    self.optimizer.zero_grad()\n",
        "            running_loss += loss.item()\n",
        "            outputs = outputs.detach().cpu()\n",
        "            meter.update(targets, outputs)\n",
        "            tk0.set_postfix(loss=(running_loss / ((itr + 1))))\n",
        "        epoch_loss = (running_loss * self.accumulation_steps) / total_batches\n",
        "\n",
        "        acc,f1 = epoch_log(phase, epoch, epoch_loss, meter, start)\n",
        "        self.losses[phase].append(epoch_loss)\n",
        "        self.acc_scores[phase].append(acc)\n",
        "        self.f1_scores[phase].append(f1)\n",
        "\n",
        "        torch.cuda.empty_cache()\n",
        "        return epoch_loss\n",
        "    def start2(self):\n",
        "        for epoch in range(self.num_epochs):\n",
        "            \n",
        "            val_loss = self.iterate(epoch, \"val\")\n",
        "            self.scheduler.step(val_loss)\n",
        "    def start(self): \n",
        "        for epoch in range(self.num_epochs):\n",
        "            self.iterate(epoch, \"train\")\n",
        "            state = {\n",
        "                \"epoch\": epoch,\n",
        "                \"best_loss\": self.best_loss,\n",
        "                \"state_dict\": self.net.state_dict(),\n",
        "                \"optimizer\": self.optimizer.state_dict(),\n",
        "            }\n",
        "            val_loss = self.iterate(epoch, \"val\")\n",
        "            self.scheduler.step(val_loss)\n",
        "            \n",
        "            if val_loss < self.best_loss:\n",
        "                 print(\"******** New optimal found, saving state ********\")\n",
        "                 state[\"best_loss\"] = self.best_loss = val_loss\n",
        "            torch.save(state, \"/content/drive/My Drive/Competitions/Analytics Vidya/Age Detection Of Actors/model/\"+self.model_name+\".pth\")\n",
        "            print()\n",
        "            "
      ],
      "execution_count": 0,
      "outputs": []
    },
    {
      "cell_type": "code",
      "metadata": {
        "id": "qyO4hrDntOs2",
        "colab_type": "code",
        "colab": {}
      },
      "source": [
        "train_df_path = '/content/drive/My Drive/Competitions/Analytics Vidya/Age Detection Of Actors/data/train.csv'\n",
        "data_folder = \"/content/drive/My Drive/Competitions/Analytics Vidya/Age Detection Of Actors/data/Train/\""
      ],
      "execution_count": 0,
      "outputs": []
    },
    {
      "cell_type": "code",
      "metadata": {
        "id": "5zd3Mu20td0H",
        "colab_type": "code",
        "colab": {}
      },
      "source": [
        "device = torch.device(\"cuda\")\n",
        "model.to(device)"
      ],
      "execution_count": 0,
      "outputs": []
    },
    {
      "cell_type": "code",
      "metadata": {
        "id": "dw6lEF6DmEHx",
        "colab_type": "code",
        "colab": {}
      },
      "source": [
        "for name, param in model.named_parameters():\n",
        "    if param.requires_grad:\n",
        "        print (name, param.data)"
      ],
      "execution_count": 0,
      "outputs": []
    },
    {
      "cell_type": "code",
      "metadata": {
        "id": "SNlSUM3WocBN",
        "colab_type": "code",
        "outputId": "efcbd6e3-b51c-44b2-d1bc-caff93d50b76",
        "colab": {
          "base_uri": "https://localhost:8080/",
          "height": 34
        }
      },
      "source": [
        "c=0\n",
        "for params in model.parameters():\n",
        "  c+=1\n",
        "  if(c>=204) :\n",
        "    params.requires_grad_=True\n",
        "c"
      ],
      "execution_count": 0,
      "outputs": [
        {
          "output_type": "execute_result",
          "data": {
            "text/plain": [
              "213"
            ]
          },
          "metadata": {
            "tags": []
          },
          "execution_count": 98
        }
      ]
    },
    {
      "cell_type": "markdown",
      "metadata": {
        "id": "EGOU1V1qhUYd",
        "colab_type": "text"
      },
      "source": [
        "#Weight Loading"
      ]
    },
    {
      "cell_type": "code",
      "metadata": {
        "id": "zKQBv912UXNj",
        "colab_type": "code",
        "outputId": "c4c05a0c-a15b-4bf3-96f4-17f4bc0763d2",
        "colab": {
          "base_uri": "https://localhost:8080/",
          "height": 50
        }
      },
      "source": [
        "#load previous model\n",
        "model = EfficientNet.from_pretrained('efficientnet-b0',num_classes=3)\n",
        "ckpt_path = \"/content/drive/My Drive/Competitions/Analytics Vidya/Age Detection Of Actors/model/b0_aug.128X128.pth\"\n",
        "device = torch.device(\"cuda\")\n",
        "model.to(device)\n",
        "state = torch.load(ckpt_path, map_location=lambda storage, loc: storage)\n",
        "model.load_state_dict(state[\"state_dict\"]) "
      ],
      "execution_count": 51,
      "outputs": [
        {
          "output_type": "stream",
          "text": [
            "Loaded pretrained weights for efficientnet-b0\n"
          ],
          "name": "stdout"
        },
        {
          "output_type": "execute_result",
          "data": {
            "text/plain": [
              "<All keys matched successfully>"
            ]
          },
          "metadata": {
            "tags": []
          },
          "execution_count": 51
        }
      ]
    },
    {
      "cell_type": "markdown",
      "metadata": {
        "id": "ELUlsft_Gr10",
        "colab_type": "text"
      },
      "source": [
        "#Multiple Train Steps"
      ]
    },
    {
      "cell_type": "code",
      "metadata": {
        "id": "c44ANRpmA9lr",
        "colab_type": "code",
        "outputId": "efffcf45-7b38-4b59-8fea-451dfb05c41c",
        "colab": {
          "base_uri": "https://localhost:8080/",
          "height": 215,
          "referenced_widgets": [
            "fc5dd30a2b454558be00d0fb88ee3b0f",
            "a1a33a3c017a4caea90f158d3e9da8b4",
            "4496e637c9934d3a933dfccccfda7159",
            "960e15de8a4e4670b590707030e119fe",
            "f4be982483664d73aea5e7bf7077a417",
            "ad81c22f07c4495c88102cac3e9b5c5e",
            "00ba95d32758450da92c18035ca8f41c",
            "4a342c0e1b8148d2b84f36cd0dd944c6",
            "cd0c780d8fff447a844ca9f9194a82e6",
            "1d712a4a3b7c41e18a69cd3f7e379144",
            "77942c5e81d9461294aa237d6661b03c",
            "f5b6c11e18484451902b396dc803e9d0",
            "64a9982df43a488ebb28ba7642a31fcd",
            "e75e45661b2641a89dd6da0f3b927301",
            "b4b2ac8774cd4b6d99ff18e1e5e6c31e",
            "475a47ce8fd44e04a036d9455d5cf78f"
          ]
        }
      },
      "source": [
        "model_trainer = Trainer(model,lr=0.0001, epochs = 1)   ###Only for acc\n",
        "model_trainer.start()"
      ],
      "execution_count": 52,
      "outputs": [
        {
          "output_type": "stream",
          "text": [
            "Starting epoch: 0 | phase: train | ⏰: 08:35:24\n"
          ],
          "name": "stdout"
        },
        {
          "output_type": "display_data",
          "data": {
            "application/vnd.jupyter.widget-view+json": {
              "model_id": "fc5dd30a2b454558be00d0fb88ee3b0f",
              "version_minor": 0,
              "version_major": 2
            },
            "text/plain": [
              "HBox(children=(FloatProgress(value=0.0, max=63.0), HTML(value='')))"
            ]
          },
          "metadata": {
            "tags": []
          }
        },
        {
          "output_type": "stream",
          "text": [
            "\n",
            "Loss: 0.0797  | acc: 0.9064  | 100*f1_score: 90.7860 \n",
            "Starting epoch: 0 | phase: val | ⏰: 08:39:52\n"
          ],
          "name": "stdout"
        },
        {
          "output_type": "display_data",
          "data": {
            "application/vnd.jupyter.widget-view+json": {
              "model_id": "cd0c780d8fff447a844ca9f9194a82e6",
              "version_minor": 0,
              "version_major": 2
            },
            "text/plain": [
              "HBox(children=(FloatProgress(value=0.0, max=1182.0), HTML(value='')))"
            ]
          },
          "metadata": {
            "tags": []
          }
        },
        {
          "output_type": "stream",
          "text": [
            "\n",
            "Loss: 0.0489  | acc: 0.9503  | 100*f1_score: 95.0682 \n",
            "******** New optimal found, saving state ********\n",
            "\n"
          ],
          "name": "stdout"
        }
      ]
    },
    {
      "cell_type": "code",
      "metadata": {
        "id": "s0ZeSNBsGqFL",
        "colab_type": "code",
        "colab": {}
      },
      "source": [
        "model_trainer = Trainer(model,lr=0.001, epochs = 10)\n",
        "model_trainer.start()"
      ],
      "execution_count": 0,
      "outputs": []
    },
    {
      "cell_type": "code",
      "metadata": {
        "id": "xWp94iSDt-co",
        "colab_type": "code",
        "colab": {}
      },
      "source": [
        "model_trainer = Trainer(model,lr=0.001, epochs = 10)\n",
        "model_trainer.start()"
      ],
      "execution_count": 0,
      "outputs": []
    },
    {
      "cell_type": "markdown",
      "metadata": {
        "id": "jgUvnhXLSMkq",
        "colab_type": "text"
      },
      "source": [
        "#MANUAL TRAIN N BABYSIT"
      ]
    },
    {
      "cell_type": "code",
      "metadata": {
        "id": "jRr_9ALMSSLz",
        "colab_type": "code",
        "colab": {}
      },
      "source": [
        "#model_name = 'resnet18' # could be fbresnet152 or inceptionresnetv2\n",
        "#model = pretrainedmodels.__dict__[model_name](num_classes=1000, pretrained='imagenet')\n",
        "for param in model.parameters():\n",
        "   #param.requires_grad = True\n",
        "   print(param.requires_grad)\n",
        "#in_features = model.last_linear.in_features\n",
        "#model.last_linear = nn.Linear(in_features,4)\n",
        "#model.last_linear.requires_grad = True\n",
        "#model.to(device)"
      ],
      "execution_count": 0,
      "outputs": []
    },
    {
      "cell_type": "code",
      "metadata": {
        "id": "MOu25pe6SXru",
        "colab_type": "code",
        "outputId": "d6f27058-fb51-4bd5-a1f3-e7f69d882dd4",
        "colab": {
          "base_uri": "https://localhost:8080/",
          "height": 320
        }
      },
      "source": [
        "model_trainer = Trainer(model,lr=3e-3)\n",
        "model_trainer.start()"
      ],
      "execution_count": 0,
      "outputs": [
        {
          "output_type": "error",
          "ename": "TypeError",
          "evalue": "ignored",
          "traceback": [
            "\u001b[0;31m---------------------------------------------------------------------------\u001b[0m",
            "\u001b[0;31mTypeError\u001b[0m                                 Traceback (most recent call last)",
            "\u001b[0;32m<ipython-input-43-b2d1a314d356>\u001b[0m in \u001b[0;36m<module>\u001b[0;34m()\u001b[0m\n\u001b[0;32m----> 1\u001b[0;31m \u001b[0mmodel_trainer\u001b[0m \u001b[0;34m=\u001b[0m \u001b[0mTrainer\u001b[0m\u001b[0;34m(\u001b[0m\u001b[0mmodel\u001b[0m\u001b[0;34m,\u001b[0m\u001b[0mlr\u001b[0m\u001b[0;34m=\u001b[0m\u001b[0;36m3e-3\u001b[0m\u001b[0;34m)\u001b[0m\u001b[0;34m\u001b[0m\u001b[0;34m\u001b[0m\u001b[0m\n\u001b[0m\u001b[1;32m      2\u001b[0m \u001b[0mmodel_trainer\u001b[0m\u001b[0;34m.\u001b[0m\u001b[0mstart\u001b[0m\u001b[0;34m(\u001b[0m\u001b[0;34m)\u001b[0m\u001b[0;34m\u001b[0m\u001b[0;34m\u001b[0m\u001b[0m\n",
            "\u001b[0;32m<ipython-input-42-5e47ca25bc4f>\u001b[0m in \u001b[0;36m__init__\u001b[0;34m(self, model, dataloader, lr)\u001b[0m\n\u001b[1;32m     38\u001b[0m                \u001b[0mnum_workers\u001b[0m\u001b[0;34m=\u001b[0m\u001b[0mself\u001b[0m\u001b[0;34m.\u001b[0m\u001b[0mnum_workers\u001b[0m\u001b[0;34m,\u001b[0m\u001b[0;34m\u001b[0m\u001b[0;34m\u001b[0m\u001b[0m\n\u001b[1;32m     39\u001b[0m            )\n\u001b[0;32m---> 40\u001b[0;31m            \u001b[0;32mfor\u001b[0m \u001b[0mphase\u001b[0m \u001b[0;32min\u001b[0m \u001b[0mself\u001b[0m\u001b[0;34m.\u001b[0m\u001b[0mphases\u001b[0m\u001b[0;34m\u001b[0m\u001b[0;34m\u001b[0m\u001b[0m\n\u001b[0m\u001b[1;32m     41\u001b[0m        }\n\u001b[1;32m     42\u001b[0m        \u001b[0mself\u001b[0m\u001b[0;34m.\u001b[0m\u001b[0mlosses\u001b[0m \u001b[0;34m=\u001b[0m \u001b[0;34m{\u001b[0m\u001b[0mphase\u001b[0m\u001b[0;34m:\u001b[0m \u001b[0;34m[\u001b[0m\u001b[0;34m]\u001b[0m \u001b[0;32mfor\u001b[0m \u001b[0mphase\u001b[0m \u001b[0;32min\u001b[0m \u001b[0mself\u001b[0m\u001b[0;34m.\u001b[0m\u001b[0mphases\u001b[0m\u001b[0;34m}\u001b[0m\u001b[0;34m\u001b[0m\u001b[0;34m\u001b[0m\u001b[0m\n",
            "\u001b[0;32m<ipython-input-42-5e47ca25bc4f>\u001b[0m in \u001b[0;36m<dictcomp>\u001b[0;34m(.0)\u001b[0m\n\u001b[1;32m     38\u001b[0m                \u001b[0mnum_workers\u001b[0m\u001b[0;34m=\u001b[0m\u001b[0mself\u001b[0m\u001b[0;34m.\u001b[0m\u001b[0mnum_workers\u001b[0m\u001b[0;34m,\u001b[0m\u001b[0;34m\u001b[0m\u001b[0;34m\u001b[0m\u001b[0m\n\u001b[1;32m     39\u001b[0m            )\n\u001b[0;32m---> 40\u001b[0;31m            \u001b[0;32mfor\u001b[0m \u001b[0mphase\u001b[0m \u001b[0;32min\u001b[0m \u001b[0mself\u001b[0m\u001b[0;34m.\u001b[0m\u001b[0mphases\u001b[0m\u001b[0;34m\u001b[0m\u001b[0;34m\u001b[0m\u001b[0m\n\u001b[0m\u001b[1;32m     41\u001b[0m        }\n\u001b[1;32m     42\u001b[0m        \u001b[0mself\u001b[0m\u001b[0;34m.\u001b[0m\u001b[0mlosses\u001b[0m \u001b[0;34m=\u001b[0m \u001b[0;34m{\u001b[0m\u001b[0mphase\u001b[0m\u001b[0;34m:\u001b[0m \u001b[0;34m[\u001b[0m\u001b[0;34m]\u001b[0m \u001b[0;32mfor\u001b[0m \u001b[0mphase\u001b[0m \u001b[0;32min\u001b[0m \u001b[0mself\u001b[0m\u001b[0;34m.\u001b[0m\u001b[0mphases\u001b[0m\u001b[0;34m}\u001b[0m\u001b[0;34m\u001b[0m\u001b[0;34m\u001b[0m\u001b[0m\n",
            "\u001b[0;32m<ipython-input-8-551cac138f42>\u001b[0m in \u001b[0;36mprovider\u001b[0;34m(data_folder, df_path, phase, mean, std, batch_size, num_workers)\u001b[0m\n\u001b[1;32m    152\u001b[0m     \u001b[0mtrain_df\u001b[0m\u001b[0;34m,\u001b[0m \u001b[0mval_df\u001b[0m \u001b[0;34m=\u001b[0m \u001b[0mtrain_test_split\u001b[0m\u001b[0;34m(\u001b[0m\u001b[0mdata\u001b[0m\u001b[0;34m,\u001b[0m \u001b[0mtest_size\u001b[0m\u001b[0;34m=\u001b[0m\u001b[0;36m0.2\u001b[0m\u001b[0;34m,\u001b[0m\u001b[0mstratify\u001b[0m\u001b[0;34m=\u001b[0m\u001b[0mlabel\u001b[0m\u001b[0;34m)\u001b[0m\u001b[0;34m\u001b[0m\u001b[0;34m\u001b[0m\u001b[0m\n\u001b[1;32m    153\u001b[0m     \u001b[0mdf\u001b[0m \u001b[0;34m=\u001b[0m \u001b[0mtrain_df\u001b[0m \u001b[0;32mif\u001b[0m \u001b[0mphase\u001b[0m \u001b[0;34m==\u001b[0m \u001b[0;34m\"train\"\u001b[0m \u001b[0;32melse\u001b[0m \u001b[0mval_df\u001b[0m\u001b[0;34m\u001b[0m\u001b[0;34m\u001b[0m\u001b[0m\n\u001b[0;32m--> 154\u001b[0;31m     \u001b[0mimage_dataset\u001b[0m \u001b[0;34m=\u001b[0m \u001b[0mDataset\u001b[0m\u001b[0;34m(\u001b[0m\u001b[0mdf\u001b[0m\u001b[0;34m,\u001b[0m \u001b[0mdata_folder\u001b[0m\u001b[0;34m,\u001b[0m \u001b[0mmean\u001b[0m\u001b[0;34m,\u001b[0m \u001b[0mstd\u001b[0m\u001b[0;34m,\u001b[0m \u001b[0mphase\u001b[0m\u001b[0;34m)\u001b[0m\u001b[0;34m\u001b[0m\u001b[0;34m\u001b[0m\u001b[0m\n\u001b[0m\u001b[1;32m    155\u001b[0m \u001b[0;34m\u001b[0m\u001b[0m\n\u001b[1;32m    156\u001b[0m     \u001b[0;31m#class_sample_counts=np.unique(label, return_counts=True)[1]\u001b[0m\u001b[0;34m\u001b[0m\u001b[0;34m\u001b[0m\u001b[0;34m\u001b[0m\u001b[0m\n",
            "\u001b[0;32m<ipython-input-8-551cac138f42>\u001b[0m in \u001b[0;36m__init__\u001b[0;34m(self, df, data_folder, mean, std, phase)\u001b[0m\n\u001b[1;32m      6\u001b[0m         \u001b[0mself\u001b[0m\u001b[0;34m.\u001b[0m\u001b[0mstd\u001b[0m \u001b[0;34m=\u001b[0m \u001b[0mstd\u001b[0m\u001b[0;34m\u001b[0m\u001b[0;34m\u001b[0m\u001b[0m\n\u001b[1;32m      7\u001b[0m         \u001b[0mself\u001b[0m\u001b[0;34m.\u001b[0m\u001b[0mphase\u001b[0m \u001b[0;34m=\u001b[0m \u001b[0mphase\u001b[0m\u001b[0;34m\u001b[0m\u001b[0;34m\u001b[0m\u001b[0m\n\u001b[0;32m----> 8\u001b[0;31m         \u001b[0mself\u001b[0m\u001b[0;34m.\u001b[0m\u001b[0mtransforms\u001b[0m \u001b[0;34m=\u001b[0m \u001b[0mget_transforms\u001b[0m\u001b[0;34m(\u001b[0m\u001b[0mphase\u001b[0m\u001b[0;34m,\u001b[0m \u001b[0mmean\u001b[0m\u001b[0;34m,\u001b[0m \u001b[0mstd\u001b[0m\u001b[0;34m)\u001b[0m\u001b[0;34m\u001b[0m\u001b[0;34m\u001b[0m\u001b[0m\n\u001b[0m\u001b[1;32m      9\u001b[0m         \u001b[0mself\u001b[0m\u001b[0;34m.\u001b[0m\u001b[0mtransforms2\u001b[0m \u001b[0;34m=\u001b[0m \u001b[0mget_transforms2\u001b[0m\u001b[0;34m(\u001b[0m\u001b[0mmean\u001b[0m\u001b[0;34m,\u001b[0m \u001b[0mstd\u001b[0m\u001b[0;34m)\u001b[0m\u001b[0;34m\u001b[0m\u001b[0;34m\u001b[0m\u001b[0m\n\u001b[1;32m     10\u001b[0m         \u001b[0mself\u001b[0m\u001b[0;34m.\u001b[0m\u001b[0mfnames\u001b[0m \u001b[0;34m=\u001b[0m \u001b[0mself\u001b[0m\u001b[0;34m.\u001b[0m\u001b[0mdf\u001b[0m\u001b[0;34m.\u001b[0m\u001b[0mindex\u001b[0m\u001b[0;34m\u001b[0m\u001b[0;34m\u001b[0m\u001b[0m\n",
            "\u001b[0;31mTypeError\u001b[0m: get_transforms() takes 2 positional arguments but 3 were given"
          ]
        }
      ]
    },
    {
      "cell_type": "markdown",
      "metadata": {
        "id": "Z2ZI8LnEjh4r",
        "colab_type": "text"
      },
      "source": [
        "#K-FOLD(NOT USED)"
      ]
    },
    {
      "cell_type": "code",
      "metadata": {
        "id": "VP0uz7A9pnPZ",
        "colab_type": "code",
        "outputId": "d51b6e1f-f085-4115-a93f-ce00201d9f56",
        "colab": {
          "base_uri": "https://localhost:8080/",
          "height": 151
        }
      },
      "source": [
        "from sklearn.model_selection import StratifiedKFold\n",
        "k = 4\n",
        "df_path = '/content/drive/My Drive/Competitions/Analytics Vidya/Age Detection Of Actors/data/test.csv'\n",
        "data = pd.read_csv(df_path)\n",
        "skf = StratifiedKFold(n_splits=k,shuffle=True,random_state=42)\n",
        "t = data.Class\n",
        "dataloader = []\n",
        "\n",
        "for train_index, test_index in skf.split(np.zeros(len(t)), t):\n",
        "    #print(train_index,test_index)\n",
        "    train_df = data.loc[train_index]\n",
        "    val_df = data.loc[test_index]\n",
        "    #print(train_df.shape,val_df.shape)\n",
        "    dicti = {}\n",
        "    for phase in ['train','val'] :\n",
        "      df = train_df if phase == \"train\" else val_df\n",
        "      label = df['Class']\n",
        "      data2 = pd.get_dummies(label)\n",
        "      df=df.drop(columns=['Class'])\n",
        "      df=pd.concat([df,data2],axis=1)\n",
        "      dataset = Dataset(df, data_folder, mean=(0.485, 0.456, 0.406), std=(0.229, 0.224, 0.225), phase=phase )\n",
        "      dicti[phase]= DataLoader(\n",
        "                dataset,\n",
        "                batch_size=16,\n",
        "                num_workers=0,\n",
        "                pin_memory=False,\n",
        "                shuffle=True,   \n",
        "                )\n",
        "    dataloader.append(dicti)\n",
        "dataloader"
      ],
      "execution_count": 0,
      "outputs": [
        {
          "output_type": "execute_result",
          "data": {
            "text/plain": [
              "[{'train': <torch.utils.data.dataloader.DataLoader at 0x7f01fa2b6780>,\n",
              "  'val': <torch.utils.data.dataloader.DataLoader at 0x7f01fa2b6cc0>},\n",
              " {'train': <torch.utils.data.dataloader.DataLoader at 0x7f01fa2b6fd0>,\n",
              "  'val': <torch.utils.data.dataloader.DataLoader at 0x7f01fa2b66a0>},\n",
              " {'train': <torch.utils.data.dataloader.DataLoader at 0x7f01fa276be0>,\n",
              "  'val': <torch.utils.data.dataloader.DataLoader at 0x7f01f00810b8>},\n",
              " {'train': <torch.utils.data.dataloader.DataLoader at 0x7f01f0081668>,\n",
              "  'val': <torch.utils.data.dataloader.DataLoader at 0x7f01f0081a58>}]"
            ]
          },
          "metadata": {
            "tags": []
          },
          "execution_count": 24
        }
      ]
    },
    {
      "cell_type": "code",
      "metadata": {
        "id": "r1wQCHLxyMP5",
        "colab_type": "code",
        "outputId": "35dc8ffa-e515-429c-d9b8-6cbb39a01a4e",
        "colab": {
          "base_uri": "https://localhost:8080/",
          "height": 34
        }
      },
      "source": [
        "len(dataloader)"
      ],
      "execution_count": 0,
      "outputs": [
        {
          "output_type": "execute_result",
          "data": {
            "text/plain": [
              "4"
            ]
          },
          "metadata": {
            "tags": []
          },
          "execution_count": 216
        }
      ]
    },
    {
      "cell_type": "code",
      "metadata": {
        "id": "jVEiF5LpyViE",
        "colab_type": "code",
        "colab": {}
      },
      "source": [
        "resnet18_models = []\n",
        "device = torch.device(\"cuda\")\n",
        "for iterator in range(k):\n",
        "     print(\"Fold : \",iterator)\n",
        "     model_name = 'resnet18' # could be fbresnet152 or inceptionresnetv2\n",
        "     model = pretrainedmodels.__dict__[model_name](num_classes=1000, pretrained='imagenet')\n",
        "     #for param in model.parameters():\n",
        "     #   param.requires_grad = False\n",
        "     in_features = model.last_linear.in_features\n",
        "     model.last_linear = nn.Linear(in_features,4)\n",
        "     model.last_linear.requires_grad = True\n",
        "     model.to(device)\n",
        "     model_trainer = Trainer(model,dataloader[iterator])\n",
        "     model_trainer.start()\n",
        "     resnet18_models.append(model)"
      ],
      "execution_count": 0,
      "outputs": []
    },
    {
      "cell_type": "markdown",
      "metadata": {
        "id": "jYlNhNQj4Gez",
        "colab_type": "text"
      },
      "source": [
        "#PREDICTION"
      ]
    },
    {
      "cell_type": "markdown",
      "metadata": {
        "id": "Xx060KbbnnwW",
        "colab_type": "text"
      },
      "source": [
        "##TEST DATALOADER\n"
      ]
    },
    {
      "cell_type": "code",
      "metadata": {
        "colab_type": "code",
        "id": "ocIGMC-XneeK",
        "colab": {}
      },
      "source": [
        "class TestDataset(Dataset):\n",
        "    def __init__(self, df, data_folder, mean, std):\n",
        "        self.df = df\n",
        "        self.root = data_folder\n",
        "        self.mean = mean\n",
        "        self.std = std\n",
        "        self.transforms = get_transforms_test(mean, std)\n",
        "        self.transforms2 = get_transforms2_test(mean, std)\n",
        "        self.fnames = self.df.index\n",
        "\n",
        "    def __getitem__(self, idx):\n",
        "        #print(self.df.columns)\n",
        "        image_id = self.df[\"Image\"].iloc[idx]\n",
        "        image_path = os.path.join(self.root,  image_id)\n",
        "        img = cv2.imread(image_path)\n",
        "        \n",
        "        img = cv2.resize(img, (128, 128))\n",
        "\n",
        "        img1 = augmented['image']    \n",
        "        augmented = self.transforms(image=img)\n",
        "        # img2 = augmented['image']    \n",
        "        # augmented = self.transforms(image=img)\n",
        "        # img3 = augmented['image']    \n",
        "        # augmented = self.transforms(image=img)\n",
        "        # img4 = augmented['image']    \n",
        "        # augmented = self.transforms(image=img)\n",
        "        # img5 = augmented['image']    \n",
        "        # augmented = self.transforms(image=img)\n",
        "        # img6 = augmented['image']    \n",
        "        # augmented = self.transforms(image=img)\n",
        "        # img7 = augmented['image']    \n",
        "        # augmented = self.transforms(image=img)\n",
        "        # img8 = augmented['image']    \n",
        "        # augmented = self.transforms(image=img)\n",
        "        # img9 = augmented['image']\n",
        "        #imag2 = imag2.reshape(imag2.shape[0],imag2.shape[1],1)\n",
        "        #imag2 = np.concatenate([imag2,imag2,imag2],axis=2)\n",
        "        #aug = self.transforms(image=imag2)\n",
        "        #imagtf1 = aug['image']\n",
        "        #aug = self.transforms2(image = imag2)\n",
        "        #imagtf2 = aug[\"image\"]\n",
        "        return img1\n",
        "\n",
        "    def __len__(self):\n",
        "        return len(self.fnames)\n",
        "\n",
        "\n",
        "def get_transforms_test(mean, std):\n",
        "    list_transforms = []\n",
        "    # list_transforms.extend(\n",
        "    #         [#GaussNoise(p=0.5),\n",
        "    #                 RandomBrightnessContrast(p=0.5),\n",
        "    #                 VerticalFlip(p=0.4),\n",
        "    # #                #RandomCrop(40,40,p=0.5),\n",
        "    # #                #CenterCrop(40,40,p=0.4),\n",
        "    #                 HorizontalFlip(),\n",
        "    # #                #ShiftScaleRotate(shift_limit=0.001, scale_limit=-1.22, rotate_limit=30, interpolation=2, border_mode=.1, p=1),\n",
        "    #                 Rotate(limit=30,p=.5)\n",
        "    #             ]\n",
        "    #      )\n",
        "    list_transforms.extend(\n",
        "        [ \n",
        "            # Resize(128,128,interpolation = 2),\n",
        "            Normalize(mean=mean, std=std, p=1),\n",
        "            ToTensor(),\n",
        "        ]\n",
        "    )\n",
        "    list_trfms = Compose(list_transforms)\n",
        "    return list_trfms\n",
        "def get_transforms2_test( mean, std):\n",
        "    list_transforms = []\n",
        "    list_transforms.extend(\n",
        "        [ \n",
        "            \n",
        "            Resize(128,128,interpolation = 2),\n",
        "            Normalize(mean=mean, std=std, p=1),\n",
        "            ToTensor(),\n",
        "        ]\n",
        "    )\n",
        "    list_trfms = Compose(list_transforms)\n",
        "    return list_trfms\n",
        "def crop_char_image3(image, threshold=80):\n",
        "    assert image.ndim == 2\n",
        "    is_black = image > threshold\n",
        "\n",
        "    is_black_vertical = np.sum(is_black, axis=0) > 0\n",
        "    is_black_horizontal = np.sum(is_black, axis=1) > 0\n",
        "    left = np.argmax(is_black_horizontal)\n",
        "    right = np.argmax(is_black_horizontal[::-1])\n",
        "    top = np.argmax(is_black_vertical)\n",
        "    bottom = np.argmax(is_black_vertical[::-1])\n",
        "    height, width = image.shape\n",
        "    cropped_image = image[left:height - right, top:width - bottom]\n",
        "    return cropped_image\n",
        "\n",
        "def providerx(\n",
        "    data_folder,\n",
        "    df_path,\n",
        "    mean=None,\n",
        "    std=None,\n",
        "    batch_size=8,\n",
        "    num_workers=0,\n",
        "):\n",
        "    '''Returns dataloader for the model training'''\n",
        "    data = pd.read_csv(df_path)\n",
        "    #label = data['grapheme_root']\n",
        "    #label3 = data['consonant_diacritic']\n",
        "    #label2 = data['vowel_diacritic']\n",
        "    #label = data['grapheme_root']\n",
        "    #label = data['Class']\n",
        "    #data2 = pd.get_dummies(label)\n",
        "    #data3 = pd.get_dummies(label2)\n",
        "    #data4 =  pd.get_dummies(label3)\n",
        "    # dict={}\n",
        "    # for i in range(168):\n",
        "    #     dict[(i)] = i+1\n",
        "    # data2.rename(columns=dict,inplace=True)    \n",
        "    # dict2 = {}\n",
        "    # for i in range(11):\n",
        "    #     dict2[(i)] = i+169\n",
        "    # data3.rename(columns=dict2,inplace=True)    \n",
        "    # dict3= {}\n",
        "    # for i in range(7):\n",
        "    #     dict3[(i)] = i+180\n",
        "    # data4.rename(columns=dict3,inplace=True)\n",
        "    \n",
        "    #data=data.drop(columns=['grapheme_root','vowel_diacritic','consonant_diacritic','grapheme'])\n",
        "    #data=pd.concat([data,data2,data3,data4],axis=1)\n",
        "\n",
        "    #data=data.drop(columns=['Class'])\n",
        "    #data=pd.concat([data,data2],axis=1)\n",
        "\n",
        "    #train_df, val_df = train_test_split(data, test_size=0.2,stratify=label)\n",
        "    #df = train_df if phase == \"train\" else val_df\n",
        "    test_image_dataset = TestDataset(data, data_folder, mean, std)\n",
        "    \n",
        "    #class_sample_counts=np.unique(label, return_counts=True)[1]\n",
        "   # weights = (1 / torch.Tensor(class_prob))\n",
        "   # weighted_sampler = torch.utils.data.sampler.WeightedRandomSampler(weights, len(train_labels))\n",
        "    #train_loader = torch.utils.data.DataLoader(train_dataset, batch_size=32, sampler=weighted_sampler)\n",
        "    \n",
        "    #dataset = CutMix(image_dataset, num_class=186, beta=1.0, prob=0.5, num_mix=2)\n",
        "    \n",
        "    dataloader = DataLoader(\n",
        "        #dataset,\n",
        "        test_image_dataset,\n",
        "        batch_size=batch_size,\n",
        "        shuffle=False,   \n",
        "    )\n",
        "    return dataloader "
      ],
      "execution_count": 0,
      "outputs": []
    },
    {
      "cell_type": "markdown",
      "metadata": {
        "id": "_XeCgU_ToE18",
        "colab_type": "text"
      },
      "source": [
        "##Without TTA"
      ]
    },
    {
      "cell_type": "code",
      "metadata": {
        "id": "VK7esvF-oD2c",
        "colab_type": "code",
        "colab": {
          "base_uri": "https://localhost:8080/",
          "height": 722,
          "referenced_widgets": [
            "8a5ba28fc122458c8c092a24566f2bb9",
            "aa8f63423d1f4bcfbfed68f6f08f24d4",
            "814ab195c407493a889f98ae199e9b74",
            "06dc2716793b4b469b71136caa168e2f",
            "8b38dc5fdead4e87937e0fc5fd83a945",
            "622fa99b9c0f4f7681c60dd6c1c72a19",
            "a23d704ce552420f864eb50b55fd7120",
            "951262c9dc8d488ea10a94718cfb8860"
          ]
        },
        "outputId": "fa666836-a4a1-4774-a595-2e3b249728db"
      },
      "source": [
        "#only resize\n",
        "test_data_folder = \"/content/drive/My Drive/Competitions/Analytics Vidya/Age Detection Of Actors/data/Test\"\n",
        "test_df_path = \"/content/drive/My Drive/Competitions/Analytics Vidya/Age Detection Of Actors/data/test.csv\"\n",
        "data_type = 'test'\n",
        "\n",
        "batch_size = 16\n",
        "\n",
        "mean = (0.485, 0.456, 0.406)\n",
        "std = (0.229, 0.224, 0.225)\n",
        "\n",
        "test_preds_list = []\n",
        "\n",
        "row_id = []\n",
        "target = []\n",
        "\n",
        "test_loader = providerx(test_data_folder, test_df_path, mean=mean, std=std, batch_size=16, num_workers=0)\n",
        "\n",
        "\n",
        "# p0=np.zeros((3219,))\n",
        "x=[]\n",
        "\n",
        "for  i,batch in enumerate(tqdm((test_loader))):\n",
        "  \n",
        "  # Class = []\n",
        "  img = batch\n",
        "  \n",
        "  bp  = model(img.to(device)).detach().cpu().numpy()\n",
        "\n",
        "  print(bp)\n",
        "  \n",
        "  # Class.extend(np.argmax(bp,axis=1))\n",
        "  x.extend(bp)\n",
        "  \n",
        "  # test_preds_list.append([Class])\n",
        "  \n",
        "# p0 = np.concatenate([test_preds[0] for test_preds in test_preds_list], axis=0)\n",
        "gc.collect()"
      ],
      "execution_count": 43,
      "outputs": [
        {
          "output_type": "display_data",
          "data": {
            "application/vnd.jupyter.widget-view+json": {
              "model_id": "8a5ba28fc122458c8c092a24566f2bb9",
              "version_minor": 0,
              "version_major": 2
            },
            "text/plain": [
              "HBox(children=(FloatProgress(value=0.0, max=415.0), HTML(value='')))"
            ]
          },
          "metadata": {
            "tags": []
          }
        },
        {
          "output_type": "error",
          "ename": "KeyError",
          "evalue": "ignored",
          "traceback": [
            "\u001b[0;31m---------------------------------------------------------------------------\u001b[0m",
            "\u001b[0;31mKeyError\u001b[0m                                  Traceback (most recent call last)",
            "\u001b[0;32m/usr/local/lib/python3.6/dist-packages/pandas/core/indexes/base.py\u001b[0m in \u001b[0;36mget_loc\u001b[0;34m(self, key, method, tolerance)\u001b[0m\n\u001b[1;32m   2645\u001b[0m             \u001b[0;32mtry\u001b[0m\u001b[0;34m:\u001b[0m\u001b[0;34m\u001b[0m\u001b[0;34m\u001b[0m\u001b[0m\n\u001b[0;32m-> 2646\u001b[0;31m                 \u001b[0;32mreturn\u001b[0m \u001b[0mself\u001b[0m\u001b[0;34m.\u001b[0m\u001b[0m_engine\u001b[0m\u001b[0;34m.\u001b[0m\u001b[0mget_loc\u001b[0m\u001b[0;34m(\u001b[0m\u001b[0mkey\u001b[0m\u001b[0;34m)\u001b[0m\u001b[0;34m\u001b[0m\u001b[0;34m\u001b[0m\u001b[0m\n\u001b[0m\u001b[1;32m   2647\u001b[0m             \u001b[0;32mexcept\u001b[0m \u001b[0mKeyError\u001b[0m\u001b[0;34m:\u001b[0m\u001b[0;34m\u001b[0m\u001b[0;34m\u001b[0m\u001b[0m\n",
            "\u001b[0;32mpandas/_libs/index.pyx\u001b[0m in \u001b[0;36mpandas._libs.index.IndexEngine.get_loc\u001b[0;34m()\u001b[0m\n",
            "\u001b[0;32mpandas/_libs/index.pyx\u001b[0m in \u001b[0;36mpandas._libs.index.IndexEngine.get_loc\u001b[0;34m()\u001b[0m\n",
            "\u001b[0;32mpandas/_libs/hashtable_class_helper.pxi\u001b[0m in \u001b[0;36mpandas._libs.hashtable.PyObjectHashTable.get_item\u001b[0;34m()\u001b[0m\n",
            "\u001b[0;32mpandas/_libs/hashtable_class_helper.pxi\u001b[0m in \u001b[0;36mpandas._libs.hashtable.PyObjectHashTable.get_item\u001b[0;34m()\u001b[0m\n",
            "\u001b[0;31mKeyError\u001b[0m: 'Image'",
            "\nDuring handling of the above exception, another exception occurred:\n",
            "\u001b[0;31mKeyError\u001b[0m                                  Traceback (most recent call last)",
            "\u001b[0;32m<ipython-input-43-3dcbad22850c>\u001b[0m in \u001b[0;36m<module>\u001b[0;34m()\u001b[0m\n\u001b[1;32m     20\u001b[0m \u001b[0mx\u001b[0m\u001b[0;34m=\u001b[0m\u001b[0;34m[\u001b[0m\u001b[0;34m]\u001b[0m\u001b[0;34m\u001b[0m\u001b[0;34m\u001b[0m\u001b[0m\n\u001b[1;32m     21\u001b[0m \u001b[0;34m\u001b[0m\u001b[0m\n\u001b[0;32m---> 22\u001b[0;31m \u001b[0;32mfor\u001b[0m  \u001b[0mi\u001b[0m\u001b[0;34m,\u001b[0m\u001b[0mbatch\u001b[0m \u001b[0;32min\u001b[0m \u001b[0menumerate\u001b[0m\u001b[0;34m(\u001b[0m\u001b[0mtqdm\u001b[0m\u001b[0;34m(\u001b[0m\u001b[0;34m(\u001b[0m\u001b[0mtest_loader\u001b[0m\u001b[0;34m)\u001b[0m\u001b[0;34m)\u001b[0m\u001b[0;34m)\u001b[0m\u001b[0;34m:\u001b[0m\u001b[0;34m\u001b[0m\u001b[0;34m\u001b[0m\u001b[0m\n\u001b[0m\u001b[1;32m     23\u001b[0m \u001b[0;34m\u001b[0m\u001b[0m\n\u001b[1;32m     24\u001b[0m   \u001b[0;31m# Class = []\u001b[0m\u001b[0;34m\u001b[0m\u001b[0;34m\u001b[0m\u001b[0;34m\u001b[0m\u001b[0m\n",
            "\u001b[0;32m/usr/local/lib/python3.6/dist-packages/tqdm/notebook.py\u001b[0m in \u001b[0;36m__iter__\u001b[0;34m(self, *args, **kwargs)\u001b[0m\n\u001b[1;32m    213\u001b[0m     \u001b[0;32mdef\u001b[0m \u001b[0m__iter__\u001b[0m\u001b[0;34m(\u001b[0m\u001b[0mself\u001b[0m\u001b[0;34m,\u001b[0m \u001b[0;34m*\u001b[0m\u001b[0margs\u001b[0m\u001b[0;34m,\u001b[0m \u001b[0;34m**\u001b[0m\u001b[0mkwargs\u001b[0m\u001b[0;34m)\u001b[0m\u001b[0;34m:\u001b[0m\u001b[0;34m\u001b[0m\u001b[0;34m\u001b[0m\u001b[0m\n\u001b[1;32m    214\u001b[0m         \u001b[0;32mtry\u001b[0m\u001b[0;34m:\u001b[0m\u001b[0;34m\u001b[0m\u001b[0;34m\u001b[0m\u001b[0m\n\u001b[0;32m--> 215\u001b[0;31m             \u001b[0;32mfor\u001b[0m \u001b[0mobj\u001b[0m \u001b[0;32min\u001b[0m \u001b[0msuper\u001b[0m\u001b[0;34m(\u001b[0m\u001b[0mtqdm_notebook\u001b[0m\u001b[0;34m,\u001b[0m \u001b[0mself\u001b[0m\u001b[0;34m)\u001b[0m\u001b[0;34m.\u001b[0m\u001b[0m__iter__\u001b[0m\u001b[0;34m(\u001b[0m\u001b[0;34m*\u001b[0m\u001b[0margs\u001b[0m\u001b[0;34m,\u001b[0m \u001b[0;34m**\u001b[0m\u001b[0mkwargs\u001b[0m\u001b[0;34m)\u001b[0m\u001b[0;34m:\u001b[0m\u001b[0;34m\u001b[0m\u001b[0;34m\u001b[0m\u001b[0m\n\u001b[0m\u001b[1;32m    216\u001b[0m                 \u001b[0;31m# return super(tqdm...) will not catch exception\u001b[0m\u001b[0;34m\u001b[0m\u001b[0;34m\u001b[0m\u001b[0;34m\u001b[0m\u001b[0m\n\u001b[1;32m    217\u001b[0m                 \u001b[0;32myield\u001b[0m \u001b[0mobj\u001b[0m\u001b[0;34m\u001b[0m\u001b[0;34m\u001b[0m\u001b[0m\n",
            "\u001b[0;32m/usr/local/lib/python3.6/dist-packages/tqdm/std.py\u001b[0m in \u001b[0;36m__iter__\u001b[0;34m(self)\u001b[0m\n\u001b[1;32m   1102\u001b[0m                 fp_write=getattr(self.fp, 'write', sys.stderr.write))\n\u001b[1;32m   1103\u001b[0m \u001b[0;34m\u001b[0m\u001b[0m\n\u001b[0;32m-> 1104\u001b[0;31m         \u001b[0;32mfor\u001b[0m \u001b[0mobj\u001b[0m \u001b[0;32min\u001b[0m \u001b[0miterable\u001b[0m\u001b[0;34m:\u001b[0m\u001b[0;34m\u001b[0m\u001b[0;34m\u001b[0m\u001b[0m\n\u001b[0m\u001b[1;32m   1105\u001b[0m             \u001b[0;32myield\u001b[0m \u001b[0mobj\u001b[0m\u001b[0;34m\u001b[0m\u001b[0;34m\u001b[0m\u001b[0m\n\u001b[1;32m   1106\u001b[0m             \u001b[0;31m# Update and possibly print the progressbar.\u001b[0m\u001b[0;34m\u001b[0m\u001b[0;34m\u001b[0m\u001b[0;34m\u001b[0m\u001b[0m\n",
            "\u001b[0;32m/usr/local/lib/python3.6/dist-packages/torch/utils/data/dataloader.py\u001b[0m in \u001b[0;36m__next__\u001b[0;34m(self)\u001b[0m\n\u001b[1;32m    343\u001b[0m \u001b[0;34m\u001b[0m\u001b[0m\n\u001b[1;32m    344\u001b[0m     \u001b[0;32mdef\u001b[0m \u001b[0m__next__\u001b[0m\u001b[0;34m(\u001b[0m\u001b[0mself\u001b[0m\u001b[0;34m)\u001b[0m\u001b[0;34m:\u001b[0m\u001b[0;34m\u001b[0m\u001b[0;34m\u001b[0m\u001b[0m\n\u001b[0;32m--> 345\u001b[0;31m         \u001b[0mdata\u001b[0m \u001b[0;34m=\u001b[0m \u001b[0mself\u001b[0m\u001b[0;34m.\u001b[0m\u001b[0m_next_data\u001b[0m\u001b[0;34m(\u001b[0m\u001b[0;34m)\u001b[0m\u001b[0;34m\u001b[0m\u001b[0;34m\u001b[0m\u001b[0m\n\u001b[0m\u001b[1;32m    346\u001b[0m         \u001b[0mself\u001b[0m\u001b[0;34m.\u001b[0m\u001b[0m_num_yielded\u001b[0m \u001b[0;34m+=\u001b[0m \u001b[0;36m1\u001b[0m\u001b[0;34m\u001b[0m\u001b[0;34m\u001b[0m\u001b[0m\n\u001b[1;32m    347\u001b[0m         \u001b[0;32mif\u001b[0m \u001b[0mself\u001b[0m\u001b[0;34m.\u001b[0m\u001b[0m_dataset_kind\u001b[0m \u001b[0;34m==\u001b[0m \u001b[0m_DatasetKind\u001b[0m\u001b[0;34m.\u001b[0m\u001b[0mIterable\u001b[0m \u001b[0;32mand\u001b[0m\u001b[0;31m \u001b[0m\u001b[0;31m\\\u001b[0m\u001b[0;34m\u001b[0m\u001b[0;34m\u001b[0m\u001b[0m\n",
            "\u001b[0;32m/usr/local/lib/python3.6/dist-packages/torch/utils/data/dataloader.py\u001b[0m in \u001b[0;36m_next_data\u001b[0;34m(self)\u001b[0m\n\u001b[1;32m    383\u001b[0m     \u001b[0;32mdef\u001b[0m \u001b[0m_next_data\u001b[0m\u001b[0;34m(\u001b[0m\u001b[0mself\u001b[0m\u001b[0;34m)\u001b[0m\u001b[0;34m:\u001b[0m\u001b[0;34m\u001b[0m\u001b[0;34m\u001b[0m\u001b[0m\n\u001b[1;32m    384\u001b[0m         \u001b[0mindex\u001b[0m \u001b[0;34m=\u001b[0m \u001b[0mself\u001b[0m\u001b[0;34m.\u001b[0m\u001b[0m_next_index\u001b[0m\u001b[0;34m(\u001b[0m\u001b[0;34m)\u001b[0m  \u001b[0;31m# may raise StopIteration\u001b[0m\u001b[0;34m\u001b[0m\u001b[0;34m\u001b[0m\u001b[0m\n\u001b[0;32m--> 385\u001b[0;31m         \u001b[0mdata\u001b[0m \u001b[0;34m=\u001b[0m \u001b[0mself\u001b[0m\u001b[0;34m.\u001b[0m\u001b[0m_dataset_fetcher\u001b[0m\u001b[0;34m.\u001b[0m\u001b[0mfetch\u001b[0m\u001b[0;34m(\u001b[0m\u001b[0mindex\u001b[0m\u001b[0;34m)\u001b[0m  \u001b[0;31m# may raise StopIteration\u001b[0m\u001b[0;34m\u001b[0m\u001b[0;34m\u001b[0m\u001b[0m\n\u001b[0m\u001b[1;32m    386\u001b[0m         \u001b[0;32mif\u001b[0m \u001b[0mself\u001b[0m\u001b[0;34m.\u001b[0m\u001b[0m_pin_memory\u001b[0m\u001b[0;34m:\u001b[0m\u001b[0;34m\u001b[0m\u001b[0;34m\u001b[0m\u001b[0m\n\u001b[1;32m    387\u001b[0m             \u001b[0mdata\u001b[0m \u001b[0;34m=\u001b[0m \u001b[0m_utils\u001b[0m\u001b[0;34m.\u001b[0m\u001b[0mpin_memory\u001b[0m\u001b[0;34m.\u001b[0m\u001b[0mpin_memory\u001b[0m\u001b[0;34m(\u001b[0m\u001b[0mdata\u001b[0m\u001b[0;34m)\u001b[0m\u001b[0;34m\u001b[0m\u001b[0;34m\u001b[0m\u001b[0m\n",
            "\u001b[0;32m/usr/local/lib/python3.6/dist-packages/torch/utils/data/_utils/fetch.py\u001b[0m in \u001b[0;36mfetch\u001b[0;34m(self, possibly_batched_index)\u001b[0m\n\u001b[1;32m     42\u001b[0m     \u001b[0;32mdef\u001b[0m \u001b[0mfetch\u001b[0m\u001b[0;34m(\u001b[0m\u001b[0mself\u001b[0m\u001b[0;34m,\u001b[0m \u001b[0mpossibly_batched_index\u001b[0m\u001b[0;34m)\u001b[0m\u001b[0;34m:\u001b[0m\u001b[0;34m\u001b[0m\u001b[0;34m\u001b[0m\u001b[0m\n\u001b[1;32m     43\u001b[0m         \u001b[0;32mif\u001b[0m \u001b[0mself\u001b[0m\u001b[0;34m.\u001b[0m\u001b[0mauto_collation\u001b[0m\u001b[0;34m:\u001b[0m\u001b[0;34m\u001b[0m\u001b[0;34m\u001b[0m\u001b[0m\n\u001b[0;32m---> 44\u001b[0;31m             \u001b[0mdata\u001b[0m \u001b[0;34m=\u001b[0m \u001b[0;34m[\u001b[0m\u001b[0mself\u001b[0m\u001b[0;34m.\u001b[0m\u001b[0mdataset\u001b[0m\u001b[0;34m[\u001b[0m\u001b[0midx\u001b[0m\u001b[0;34m]\u001b[0m \u001b[0;32mfor\u001b[0m \u001b[0midx\u001b[0m \u001b[0;32min\u001b[0m \u001b[0mpossibly_batched_index\u001b[0m\u001b[0;34m]\u001b[0m\u001b[0;34m\u001b[0m\u001b[0;34m\u001b[0m\u001b[0m\n\u001b[0m\u001b[1;32m     45\u001b[0m         \u001b[0;32melse\u001b[0m\u001b[0;34m:\u001b[0m\u001b[0;34m\u001b[0m\u001b[0;34m\u001b[0m\u001b[0m\n\u001b[1;32m     46\u001b[0m             \u001b[0mdata\u001b[0m \u001b[0;34m=\u001b[0m \u001b[0mself\u001b[0m\u001b[0;34m.\u001b[0m\u001b[0mdataset\u001b[0m\u001b[0;34m[\u001b[0m\u001b[0mpossibly_batched_index\u001b[0m\u001b[0;34m]\u001b[0m\u001b[0;34m\u001b[0m\u001b[0;34m\u001b[0m\u001b[0m\n",
            "\u001b[0;32m/usr/local/lib/python3.6/dist-packages/torch/utils/data/_utils/fetch.py\u001b[0m in \u001b[0;36m<listcomp>\u001b[0;34m(.0)\u001b[0m\n\u001b[1;32m     42\u001b[0m     \u001b[0;32mdef\u001b[0m \u001b[0mfetch\u001b[0m\u001b[0;34m(\u001b[0m\u001b[0mself\u001b[0m\u001b[0;34m,\u001b[0m \u001b[0mpossibly_batched_index\u001b[0m\u001b[0;34m)\u001b[0m\u001b[0;34m:\u001b[0m\u001b[0;34m\u001b[0m\u001b[0;34m\u001b[0m\u001b[0m\n\u001b[1;32m     43\u001b[0m         \u001b[0;32mif\u001b[0m \u001b[0mself\u001b[0m\u001b[0;34m.\u001b[0m\u001b[0mauto_collation\u001b[0m\u001b[0;34m:\u001b[0m\u001b[0;34m\u001b[0m\u001b[0;34m\u001b[0m\u001b[0m\n\u001b[0;32m---> 44\u001b[0;31m             \u001b[0mdata\u001b[0m \u001b[0;34m=\u001b[0m \u001b[0;34m[\u001b[0m\u001b[0mself\u001b[0m\u001b[0;34m.\u001b[0m\u001b[0mdataset\u001b[0m\u001b[0;34m[\u001b[0m\u001b[0midx\u001b[0m\u001b[0;34m]\u001b[0m \u001b[0;32mfor\u001b[0m \u001b[0midx\u001b[0m \u001b[0;32min\u001b[0m \u001b[0mpossibly_batched_index\u001b[0m\u001b[0;34m]\u001b[0m\u001b[0;34m\u001b[0m\u001b[0;34m\u001b[0m\u001b[0m\n\u001b[0m\u001b[1;32m     45\u001b[0m         \u001b[0;32melse\u001b[0m\u001b[0;34m:\u001b[0m\u001b[0;34m\u001b[0m\u001b[0;34m\u001b[0m\u001b[0m\n\u001b[1;32m     46\u001b[0m             \u001b[0mdata\u001b[0m \u001b[0;34m=\u001b[0m \u001b[0mself\u001b[0m\u001b[0;34m.\u001b[0m\u001b[0mdataset\u001b[0m\u001b[0;34m[\u001b[0m\u001b[0mpossibly_batched_index\u001b[0m\u001b[0;34m]\u001b[0m\u001b[0;34m\u001b[0m\u001b[0;34m\u001b[0m\u001b[0m\n",
            "\u001b[0;32m<ipython-input-41-eddebd56302e>\u001b[0m in \u001b[0;36m__getitem__\u001b[0;34m(self, idx)\u001b[0m\n\u001b[1;32m     11\u001b[0m     \u001b[0;32mdef\u001b[0m \u001b[0m__getitem__\u001b[0m\u001b[0;34m(\u001b[0m\u001b[0mself\u001b[0m\u001b[0;34m,\u001b[0m \u001b[0midx\u001b[0m\u001b[0;34m)\u001b[0m\u001b[0;34m:\u001b[0m\u001b[0;34m\u001b[0m\u001b[0;34m\u001b[0m\u001b[0m\n\u001b[1;32m     12\u001b[0m         \u001b[0;31m#print(self.df.columns)\u001b[0m\u001b[0;34m\u001b[0m\u001b[0;34m\u001b[0m\u001b[0;34m\u001b[0m\u001b[0m\n\u001b[0;32m---> 13\u001b[0;31m         \u001b[0mimage_id\u001b[0m \u001b[0;34m=\u001b[0m \u001b[0mself\u001b[0m\u001b[0;34m.\u001b[0m\u001b[0mdf\u001b[0m\u001b[0;34m[\u001b[0m\u001b[0;34m\"Image\"\u001b[0m\u001b[0;34m]\u001b[0m\u001b[0;34m.\u001b[0m\u001b[0miloc\u001b[0m\u001b[0;34m[\u001b[0m\u001b[0midx\u001b[0m\u001b[0;34m]\u001b[0m\u001b[0;34m\u001b[0m\u001b[0;34m\u001b[0m\u001b[0m\n\u001b[0m\u001b[1;32m     14\u001b[0m         \u001b[0mimage_path\u001b[0m \u001b[0;34m=\u001b[0m \u001b[0mos\u001b[0m\u001b[0;34m.\u001b[0m\u001b[0mpath\u001b[0m\u001b[0;34m.\u001b[0m\u001b[0mjoin\u001b[0m\u001b[0;34m(\u001b[0m\u001b[0mself\u001b[0m\u001b[0;34m.\u001b[0m\u001b[0mroot\u001b[0m\u001b[0;34m,\u001b[0m  \u001b[0mimage_id\u001b[0m\u001b[0;34m)\u001b[0m\u001b[0;34m\u001b[0m\u001b[0;34m\u001b[0m\u001b[0m\n\u001b[1;32m     15\u001b[0m         \u001b[0mimg\u001b[0m \u001b[0;34m=\u001b[0m \u001b[0mcv2\u001b[0m\u001b[0;34m.\u001b[0m\u001b[0mimread\u001b[0m\u001b[0;34m(\u001b[0m\u001b[0mimage_path\u001b[0m\u001b[0;34m)\u001b[0m\u001b[0;34m\u001b[0m\u001b[0;34m\u001b[0m\u001b[0m\n",
            "\u001b[0;32m/usr/local/lib/python3.6/dist-packages/pandas/core/frame.py\u001b[0m in \u001b[0;36m__getitem__\u001b[0;34m(self, key)\u001b[0m\n\u001b[1;32m   2798\u001b[0m             \u001b[0;32mif\u001b[0m \u001b[0mself\u001b[0m\u001b[0;34m.\u001b[0m\u001b[0mcolumns\u001b[0m\u001b[0;34m.\u001b[0m\u001b[0mnlevels\u001b[0m \u001b[0;34m>\u001b[0m \u001b[0;36m1\u001b[0m\u001b[0;34m:\u001b[0m\u001b[0;34m\u001b[0m\u001b[0;34m\u001b[0m\u001b[0m\n\u001b[1;32m   2799\u001b[0m                 \u001b[0;32mreturn\u001b[0m \u001b[0mself\u001b[0m\u001b[0;34m.\u001b[0m\u001b[0m_getitem_multilevel\u001b[0m\u001b[0;34m(\u001b[0m\u001b[0mkey\u001b[0m\u001b[0;34m)\u001b[0m\u001b[0;34m\u001b[0m\u001b[0;34m\u001b[0m\u001b[0m\n\u001b[0;32m-> 2800\u001b[0;31m             \u001b[0mindexer\u001b[0m \u001b[0;34m=\u001b[0m \u001b[0mself\u001b[0m\u001b[0;34m.\u001b[0m\u001b[0mcolumns\u001b[0m\u001b[0;34m.\u001b[0m\u001b[0mget_loc\u001b[0m\u001b[0;34m(\u001b[0m\u001b[0mkey\u001b[0m\u001b[0;34m)\u001b[0m\u001b[0;34m\u001b[0m\u001b[0;34m\u001b[0m\u001b[0m\n\u001b[0m\u001b[1;32m   2801\u001b[0m             \u001b[0;32mif\u001b[0m \u001b[0mis_integer\u001b[0m\u001b[0;34m(\u001b[0m\u001b[0mindexer\u001b[0m\u001b[0;34m)\u001b[0m\u001b[0;34m:\u001b[0m\u001b[0;34m\u001b[0m\u001b[0;34m\u001b[0m\u001b[0m\n\u001b[1;32m   2802\u001b[0m                 \u001b[0mindexer\u001b[0m \u001b[0;34m=\u001b[0m \u001b[0;34m[\u001b[0m\u001b[0mindexer\u001b[0m\u001b[0;34m]\u001b[0m\u001b[0;34m\u001b[0m\u001b[0;34m\u001b[0m\u001b[0m\n",
            "\u001b[0;32m/usr/local/lib/python3.6/dist-packages/pandas/core/indexes/base.py\u001b[0m in \u001b[0;36mget_loc\u001b[0;34m(self, key, method, tolerance)\u001b[0m\n\u001b[1;32m   2646\u001b[0m                 \u001b[0;32mreturn\u001b[0m \u001b[0mself\u001b[0m\u001b[0;34m.\u001b[0m\u001b[0m_engine\u001b[0m\u001b[0;34m.\u001b[0m\u001b[0mget_loc\u001b[0m\u001b[0;34m(\u001b[0m\u001b[0mkey\u001b[0m\u001b[0;34m)\u001b[0m\u001b[0;34m\u001b[0m\u001b[0;34m\u001b[0m\u001b[0m\n\u001b[1;32m   2647\u001b[0m             \u001b[0;32mexcept\u001b[0m \u001b[0mKeyError\u001b[0m\u001b[0;34m:\u001b[0m\u001b[0;34m\u001b[0m\u001b[0;34m\u001b[0m\u001b[0m\n\u001b[0;32m-> 2648\u001b[0;31m                 \u001b[0;32mreturn\u001b[0m \u001b[0mself\u001b[0m\u001b[0;34m.\u001b[0m\u001b[0m_engine\u001b[0m\u001b[0;34m.\u001b[0m\u001b[0mget_loc\u001b[0m\u001b[0;34m(\u001b[0m\u001b[0mself\u001b[0m\u001b[0;34m.\u001b[0m\u001b[0m_maybe_cast_indexer\u001b[0m\u001b[0;34m(\u001b[0m\u001b[0mkey\u001b[0m\u001b[0;34m)\u001b[0m\u001b[0;34m)\u001b[0m\u001b[0;34m\u001b[0m\u001b[0;34m\u001b[0m\u001b[0m\n\u001b[0m\u001b[1;32m   2649\u001b[0m         \u001b[0mindexer\u001b[0m \u001b[0;34m=\u001b[0m \u001b[0mself\u001b[0m\u001b[0;34m.\u001b[0m\u001b[0mget_indexer\u001b[0m\u001b[0;34m(\u001b[0m\u001b[0;34m[\u001b[0m\u001b[0mkey\u001b[0m\u001b[0;34m]\u001b[0m\u001b[0;34m,\u001b[0m \u001b[0mmethod\u001b[0m\u001b[0;34m=\u001b[0m\u001b[0mmethod\u001b[0m\u001b[0;34m,\u001b[0m \u001b[0mtolerance\u001b[0m\u001b[0;34m=\u001b[0m\u001b[0mtolerance\u001b[0m\u001b[0;34m)\u001b[0m\u001b[0;34m\u001b[0m\u001b[0;34m\u001b[0m\u001b[0m\n\u001b[1;32m   2650\u001b[0m         \u001b[0;32mif\u001b[0m \u001b[0mindexer\u001b[0m\u001b[0;34m.\u001b[0m\u001b[0mndim\u001b[0m \u001b[0;34m>\u001b[0m \u001b[0;36m1\u001b[0m \u001b[0;32mor\u001b[0m \u001b[0mindexer\u001b[0m\u001b[0;34m.\u001b[0m\u001b[0msize\u001b[0m \u001b[0;34m>\u001b[0m \u001b[0;36m1\u001b[0m\u001b[0;34m:\u001b[0m\u001b[0;34m\u001b[0m\u001b[0;34m\u001b[0m\u001b[0m\n",
            "\u001b[0;32mpandas/_libs/index.pyx\u001b[0m in \u001b[0;36mpandas._libs.index.IndexEngine.get_loc\u001b[0;34m()\u001b[0m\n",
            "\u001b[0;32mpandas/_libs/index.pyx\u001b[0m in \u001b[0;36mpandas._libs.index.IndexEngine.get_loc\u001b[0;34m()\u001b[0m\n",
            "\u001b[0;32mpandas/_libs/hashtable_class_helper.pxi\u001b[0m in \u001b[0;36mpandas._libs.hashtable.PyObjectHashTable.get_item\u001b[0;34m()\u001b[0m\n",
            "\u001b[0;32mpandas/_libs/hashtable_class_helper.pxi\u001b[0m in \u001b[0;36mpandas._libs.hashtable.PyObjectHashTable.get_item\u001b[0;34m()\u001b[0m\n",
            "\u001b[0;31mKeyError\u001b[0m: 'Image'"
          ]
        }
      ]
    },
    {
      "cell_type": "code",
      "metadata": {
        "id": "WAGJejanoKSM",
        "colab_type": "code",
        "colab": {}
      },
      "source": [
        ""
      ],
      "execution_count": 0,
      "outputs": []
    },
    {
      "cell_type": "code",
      "metadata": {
        "id": "_BcFxMG6oKQQ",
        "colab_type": "code",
        "colab": {}
      },
      "source": [
        ""
      ],
      "execution_count": 0,
      "outputs": []
    },
    {
      "cell_type": "code",
      "metadata": {
        "id": "CbdRh1SMoKMa",
        "colab_type": "code",
        "colab": {}
      },
      "source": [
        ""
      ],
      "execution_count": 0,
      "outputs": []
    },
    {
      "cell_type": "code",
      "metadata": {
        "id": "OxoIvuhHoKKE",
        "colab_type": "code",
        "colab": {}
      },
      "source": [
        ""
      ],
      "execution_count": 0,
      "outputs": []
    },
    {
      "cell_type": "code",
      "metadata": {
        "id": "ORZPWDacoKHY",
        "colab_type": "code",
        "colab": {}
      },
      "source": [
        ""
      ],
      "execution_count": 0,
      "outputs": []
    },
    {
      "cell_type": "markdown",
      "metadata": {
        "id": "BEgvHLyAikVV",
        "colab_type": "text"
      },
      "source": [
        "#PART II"
      ]
    },
    {
      "cell_type": "code",
      "metadata": {
        "id": "2tgwaKztd2Qg",
        "colab_type": "code",
        "colab": {}
      },
      "source": [
        "test_df = pd.read_csv('/content/drive/My Drive/Competitions/Analytics Vidya/Age Detection Of Actors/data/test.csv')"
      ],
      "execution_count": 0,
      "outputs": []
    },
    {
      "cell_type": "code",
      "metadata": {
        "id": "mHr1Banq77Jc",
        "colab_type": "code",
        "colab": {}
      },
      "source": [
        "#p0 = np.concatenate([test_preds[0] for test_preds in test_preds_list], axis=0)\n",
        "dicti = {0:\"MIDDLE\",1:\"OLD\",2:\"YOUNG\"}\n",
        "p1 = [dicti[i] for i in p0]\n",
        "#print('concat:', 'p0', p0.shape)\n",
        "submission_df = pd.DataFrame({'Class': p1,'ID':test_df[\"ID\"] })\n",
        "submission_df.to_csv('submission.csv', index=False)"
      ],
      "execution_count": 0,
      "outputs": []
    },
    {
      "cell_type": "code",
      "metadata": {
        "id": "ULiEKM2U-GOO",
        "colab_type": "code",
        "colab": {}
      },
      "source": [
        "sub_df = pd.read_csv('/content/submission.csv')"
      ],
      "execution_count": 0,
      "outputs": []
    },
    {
      "cell_type": "code",
      "metadata": {
        "id": "bYhyiKIr-NBi",
        "colab_type": "code",
        "outputId": "5eb542de-19d4-43f6-a69b-002b74a6e697",
        "colab": {
          "base_uri": "https://localhost:8080/",
          "height": 195
        }
      },
      "source": [
        "sub_df.head(5)"
      ],
      "execution_count": 0,
      "outputs": [
        {
          "output_type": "execute_result",
          "data": {
            "text/html": [
              "<div>\n",
              "<style scoped>\n",
              "    .dataframe tbody tr th:only-of-type {\n",
              "        vertical-align: middle;\n",
              "    }\n",
              "\n",
              "    .dataframe tbody tr th {\n",
              "        vertical-align: top;\n",
              "    }\n",
              "\n",
              "    .dataframe thead th {\n",
              "        text-align: right;\n",
              "    }\n",
              "</style>\n",
              "<table border=\"1\" class=\"dataframe\">\n",
              "  <thead>\n",
              "    <tr style=\"text-align: right;\">\n",
              "      <th></th>\n",
              "      <th>Class</th>\n",
              "      <th>Image</th>\n",
              "    </tr>\n",
              "  </thead>\n",
              "  <tbody>\n",
              "    <tr>\n",
              "      <th>0</th>\n",
              "      <td>OLD</td>\n",
              "      <td>25321.jpg</td>\n",
              "    </tr>\n",
              "    <tr>\n",
              "      <th>1</th>\n",
              "      <td>OLD</td>\n",
              "      <td>989.jpg</td>\n",
              "    </tr>\n",
              "    <tr>\n",
              "      <th>2</th>\n",
              "      <td>OLD</td>\n",
              "      <td>19277.jpg</td>\n",
              "    </tr>\n",
              "    <tr>\n",
              "      <th>3</th>\n",
              "      <td>OLD</td>\n",
              "      <td>13093.jpg</td>\n",
              "    </tr>\n",
              "    <tr>\n",
              "      <th>4</th>\n",
              "      <td>OLD</td>\n",
              "      <td>5367.jpg</td>\n",
              "    </tr>\n",
              "  </tbody>\n",
              "</table>\n",
              "</div>"
            ],
            "text/plain": [
              "  Class      Image\n",
              "0   OLD  25321.jpg\n",
              "1   OLD    989.jpg\n",
              "2   OLD  19277.jpg\n",
              "3   OLD  13093.jpg\n",
              "4   OLD   5367.jpg"
            ]
          },
          "metadata": {
            "tags": []
          },
          "execution_count": 51
        }
      ]
    },
    {
      "cell_type": "code",
      "metadata": {
        "id": "2GvkNpGvt7Oy",
        "colab_type": "code",
        "outputId": "542942ad-76a1-41f7-9e67-ea9f13fd54ba",
        "colab": {
          "base_uri": "https://localhost:8080/",
          "height": 284
        }
      },
      "source": [
        "im = cv2.imread('/content/drive/My Drive/Competitions/Analytics Vidya/Age Detection Of Actors/data/Test/25321.jpg')\n",
        "plt.imshow(im)"
      ],
      "execution_count": 0,
      "outputs": [
        {
          "output_type": "execute_result",
          "data": {
            "text/plain": [
              "<matplotlib.image.AxesImage at 0x7fb7061fe9e8>"
            ]
          },
          "metadata": {
            "tags": []
          },
          "execution_count": 53
        },
        {
          "output_type": "display_data",
          "data": {
            "image/png": "[encoded data removed]",
            "text/plain": [
              "<Figure size 432x288 with 1 Axes>"
            ]
          },
          "metadata": {
            "tags": [],
            "needs_background": "light"
          }
        }
      ]
    },
    {
      "cell_type": "code",
      "metadata": {
        "id": "9roNnkiZfda6",
        "colab_type": "code",
        "colab": {}
      },
      "source": [
        "p1 = np.load('/content/subSqueeze128 (1).npy')"
      ],
      "execution_count": 0,
      "outputs": []
    },
    {
      "cell_type": "code",
      "metadata": {
        "id": "SAQhFruo3rRS",
        "colab_type": "code",
        "colab": {}
      },
      "source": [
        "p4 = p0"
      ],
      "execution_count": 0,
      "outputs": []
    },
    {
      "cell_type": "code",
      "metadata": {
        "id": "X0BqzFBn2X7N",
        "colab_type": "code",
        "colab": {}
      },
      "source": [
        "df = pd.read_csv('/content/submission (35).csv')\n",
        "dicti = {\"Attire\":0,\"Decorationandsignage\":1,\"Food\":2,\"misc\":3}\n",
        "p2 = [dicti[i] for i in df.Class]"
      ],
      "execution_count": 0,
      "outputs": []
    },
    {
      "cell_type": "code",
      "metadata": {
        "id": "2V4Ss4xs2XsR",
        "colab_type": "code",
        "outputId": "a925da24-09e5-4871-a1b3-286e900143db",
        "colab": {
          "base_uri": "https://localhost:8080/",
          "height": 34
        }
      },
      "source": [
        "p1 = np.argmax(p1,axis=1)\n",
        "p1"
      ],
      "execution_count": 0,
      "outputs": [
        {
          "output_type": "execute_result",
          "data": {
            "text/plain": [
              "array([2, 2, 2, ..., 3, 3, 3])"
            ]
          },
          "metadata": {
            "tags": []
          },
          "execution_count": 168
        }
      ]
    },
    {
      "cell_type": "code",
      "metadata": {
        "id": "afw9ZBTo3Hcc",
        "colab_type": "code",
        "colab": {}
      },
      "source": [
        "p3 = (p1+p4)//2"
      ],
      "execution_count": 0,
      "outputs": []
    },
    {
      "cell_type": "code",
      "metadata": {
        "id": "Ltn-9Yke3U12",
        "colab_type": "code",
        "outputId": "c2bcb20c-68bd-49ff-a840-8fe4f2545d99",
        "colab": {
          "base_uri": "https://localhost:8080/",
          "height": 134
        }
      },
      "source": [
        "p1"
      ],
      "execution_count": 0,
      "outputs": [
        {
          "output_type": "execute_result",
          "data": {
            "text/plain": [
              "array([[0.06443055, 0.06806318, 0.6754856 , 0.19202071],\n",
              "       [0.10136419, 0.2698184 , 0.43284553, 0.19597194],\n",
              "       [0.1592902 , 0.00552815, 0.76382697, 0.07135467],\n",
              "       ...,\n",
              "       [0.44178262, 0.00085357, 0.00827961, 0.54908425],\n",
              "       [0.08948147, 0.08838122, 0.06850307, 0.75363433],\n",
              "       [0.05396221, 0.05550498, 0.04835311, 0.84217966]], dtype=float32)"
            ]
          },
          "metadata": {
            "tags": []
          },
          "execution_count": 149
        }
      ]
    },
    {
      "cell_type": "code",
      "metadata": {
        "id": "Vt2X7-Bh4OgB",
        "colab_type": "code",
        "colab": {}
      },
      "source": [
        "x = np.array(x)"
      ],
      "execution_count": 0,
      "outputs": []
    },
    {
      "cell_type": "code",
      "metadata": {
        "id": "pTM5ab_K-4C-",
        "colab_type": "code",
        "outputId": "2be16ae5-57c7-46c7-de64-f0e96c07ce82",
        "colab": {
          "base_uri": "https://localhost:8080/",
          "height": 34
        }
      },
      "source": [
        "x.shape"
      ],
      "execution_count": 0,
      "outputs": [
        {
          "output_type": "execute_result",
          "data": {
            "text/plain": [
              "(3219, 4)"
            ]
          },
          "metadata": {
            "tags": []
          },
          "execution_count": 53
        }
      ]
    },
    {
      "cell_type": "code",
      "metadata": {
        "id": "SaLCxSox_jrF",
        "colab_type": "code",
        "colab": {}
      },
      "source": [
        "np.save(\"b0_aug_80.09.npy\",x)"
      ],
      "execution_count": 0,
      "outputs": []
    },
    {
      "cell_type": "code",
      "metadata": {
        "id": "OO7XKhbr_t4t",
        "colab_type": "code",
        "colab": {}
      },
      "source": [
        "x1 = np.load('/content/b0_aug_80.09.npy')\n",
        "x2 = np.load('/content/b2_aug_81.45.npy')\n",
        "x3 = np.load('/content/subres2nxt.npy')\n",
        "x4 = np.load('/content/subresnet34.npy')\n",
        "x5 = np.load('/content/subeffb2a (1).npy')"
      ],
      "execution_count": 0,
      "outputs": []
    },
    {
      "cell_type": "code",
      "metadata": {
        "id": "sojyg_YBUK0l",
        "colab_type": "code",
        "colab": {}
      },
      "source": [
        "x = x1+x2+x3+x4+x5"
      ],
      "execution_count": 0,
      "outputs": []
    },
    {
      "cell_type": "code",
      "metadata": {
        "id": "AuXcumW3UNei",
        "colab_type": "code",
        "colab": {}
      },
      "source": [
        "\n",
        "x = np.argmax(x,axis=1)"
      ],
      "execution_count": 0,
      "outputs": []
    },
    {
      "cell_type": "code",
      "metadata": {
        "id": "anibRpazUUTD",
        "colab_type": "code",
        "colab": {}
      },
      "source": [
        "p0 = x"
      ],
      "execution_count": 0,
      "outputs": []
    },
    {
      "cell_type": "code",
      "metadata": {
        "id": "Ri_iIvtxUVvF",
        "colab_type": "code",
        "outputId": "0d474556-2121-44fd-f3f5-e5f320d6d6b7",
        "colab": {
          "base_uri": "https://localhost:8080/",
          "height": 404
        }
      },
      "source": [
        "x1 = np.argmax(x1,axis=1)\n",
        "x2 = np.argmax(x2,axis=1)\n",
        "x3 = np.argmax(x3,axis=1)\n",
        "x4 = np.argmax(x4,axis=1)\n",
        "x5 = np.argmax(x5,axis=1)\n",
        "x = np.concatenate([x1,x2,x3,x4,x5],axis=0).reshape(3219,5)"
      ],
      "execution_count": 0,
      "outputs": [
        {
          "output_type": "error",
          "ename": "AxisError",
          "evalue": "ignored",
          "traceback": [
            "\u001b[0;31m---------------------------------------------------------------------------\u001b[0m",
            "\u001b[0;31mAxisError\u001b[0m                                 Traceback (most recent call last)",
            "\u001b[0;32m<ipython-input-115-d132507dfb10>\u001b[0m in \u001b[0;36m<module>\u001b[0;34m()\u001b[0m\n\u001b[0;32m----> 1\u001b[0;31m \u001b[0mx1\u001b[0m \u001b[0;34m=\u001b[0m \u001b[0mnp\u001b[0m\u001b[0;34m.\u001b[0m\u001b[0margmax\u001b[0m\u001b[0;34m(\u001b[0m\u001b[0mx1\u001b[0m\u001b[0;34m,\u001b[0m\u001b[0maxis\u001b[0m\u001b[0;34m=\u001b[0m\u001b[0;36m1\u001b[0m\u001b[0;34m)\u001b[0m\u001b[0;34m\u001b[0m\u001b[0;34m\u001b[0m\u001b[0m\n\u001b[0m\u001b[1;32m      2\u001b[0m \u001b[0mx2\u001b[0m \u001b[0;34m=\u001b[0m \u001b[0mnp\u001b[0m\u001b[0;34m.\u001b[0m\u001b[0margmax\u001b[0m\u001b[0;34m(\u001b[0m\u001b[0mx2\u001b[0m\u001b[0;34m,\u001b[0m\u001b[0maxis\u001b[0m\u001b[0;34m=\u001b[0m\u001b[0;36m1\u001b[0m\u001b[0;34m)\u001b[0m\u001b[0;34m\u001b[0m\u001b[0;34m\u001b[0m\u001b[0m\n\u001b[1;32m      3\u001b[0m \u001b[0mx3\u001b[0m \u001b[0;34m=\u001b[0m \u001b[0mnp\u001b[0m\u001b[0;34m.\u001b[0m\u001b[0margmax\u001b[0m\u001b[0;34m(\u001b[0m\u001b[0mx3\u001b[0m\u001b[0;34m,\u001b[0m\u001b[0maxis\u001b[0m\u001b[0;34m=\u001b[0m\u001b[0;36m1\u001b[0m\u001b[0;34m)\u001b[0m\u001b[0;34m\u001b[0m\u001b[0;34m\u001b[0m\u001b[0m\n\u001b[1;32m      4\u001b[0m \u001b[0mx4\u001b[0m \u001b[0;34m=\u001b[0m \u001b[0mnp\u001b[0m\u001b[0;34m.\u001b[0m\u001b[0margmax\u001b[0m\u001b[0;34m(\u001b[0m\u001b[0mx4\u001b[0m\u001b[0;34m,\u001b[0m\u001b[0maxis\u001b[0m\u001b[0;34m=\u001b[0m\u001b[0;36m1\u001b[0m\u001b[0;34m)\u001b[0m\u001b[0;34m\u001b[0m\u001b[0;34m\u001b[0m\u001b[0m\n\u001b[1;32m      5\u001b[0m \u001b[0mx5\u001b[0m \u001b[0;34m=\u001b[0m \u001b[0mnp\u001b[0m\u001b[0;34m.\u001b[0m\u001b[0margmax\u001b[0m\u001b[0;34m(\u001b[0m\u001b[0mx5\u001b[0m\u001b[0;34m,\u001b[0m\u001b[0maxis\u001b[0m\u001b[0;34m=\u001b[0m\u001b[0;36m1\u001b[0m\u001b[0;34m)\u001b[0m\u001b[0;34m\u001b[0m\u001b[0;34m\u001b[0m\u001b[0m\n",
            "\u001b[0;32m<__array_function__ internals>\u001b[0m in \u001b[0;36margmax\u001b[0;34m(*args, **kwargs)\u001b[0m\n",
            "\u001b[0;32m/usr/local/lib/python3.6/dist-packages/numpy/core/fromnumeric.py\u001b[0m in \u001b[0;36margmax\u001b[0;34m(a, axis, out)\u001b[0m\n\u001b[1;32m   1184\u001b[0m \u001b[0;34m\u001b[0m\u001b[0m\n\u001b[1;32m   1185\u001b[0m     \"\"\"\n\u001b[0;32m-> 1186\u001b[0;31m     \u001b[0;32mreturn\u001b[0m \u001b[0m_wrapfunc\u001b[0m\u001b[0;34m(\u001b[0m\u001b[0ma\u001b[0m\u001b[0;34m,\u001b[0m \u001b[0;34m'argmax'\u001b[0m\u001b[0;34m,\u001b[0m \u001b[0maxis\u001b[0m\u001b[0;34m=\u001b[0m\u001b[0maxis\u001b[0m\u001b[0;34m,\u001b[0m \u001b[0mout\u001b[0m\u001b[0;34m=\u001b[0m\u001b[0mout\u001b[0m\u001b[0;34m)\u001b[0m\u001b[0;34m\u001b[0m\u001b[0;34m\u001b[0m\u001b[0m\n\u001b[0m\u001b[1;32m   1187\u001b[0m \u001b[0;34m\u001b[0m\u001b[0m\n\u001b[1;32m   1188\u001b[0m \u001b[0;34m\u001b[0m\u001b[0m\n",
            "\u001b[0;32m/usr/local/lib/python3.6/dist-packages/numpy/core/fromnumeric.py\u001b[0m in \u001b[0;36m_wrapfunc\u001b[0;34m(obj, method, *args, **kwds)\u001b[0m\n\u001b[1;32m     59\u001b[0m \u001b[0;34m\u001b[0m\u001b[0m\n\u001b[1;32m     60\u001b[0m     \u001b[0;32mtry\u001b[0m\u001b[0;34m:\u001b[0m\u001b[0;34m\u001b[0m\u001b[0;34m\u001b[0m\u001b[0m\n\u001b[0;32m---> 61\u001b[0;31m         \u001b[0;32mreturn\u001b[0m \u001b[0mbound\u001b[0m\u001b[0;34m(\u001b[0m\u001b[0;34m*\u001b[0m\u001b[0margs\u001b[0m\u001b[0;34m,\u001b[0m \u001b[0;34m**\u001b[0m\u001b[0mkwds\u001b[0m\u001b[0;34m)\u001b[0m\u001b[0;34m\u001b[0m\u001b[0;34m\u001b[0m\u001b[0m\n\u001b[0m\u001b[1;32m     62\u001b[0m     \u001b[0;32mexcept\u001b[0m \u001b[0mTypeError\u001b[0m\u001b[0;34m:\u001b[0m\u001b[0;34m\u001b[0m\u001b[0;34m\u001b[0m\u001b[0m\n\u001b[1;32m     63\u001b[0m         \u001b[0;31m# A TypeError occurs if the object does have such a method in its\u001b[0m\u001b[0;34m\u001b[0m\u001b[0;34m\u001b[0m\u001b[0;34m\u001b[0m\u001b[0m\n",
            "\u001b[0;31mAxisError\u001b[0m: axis 1 is out of bounds for array of dimension 1"
          ]
        }
      ]
    },
    {
      "cell_type": "code",
      "metadata": {
        "id": "a0sozvx9XYRf",
        "colab_type": "code",
        "outputId": "58f0b048-31c0-4cc2-e9bb-67a85da9ba51",
        "colab": {
          "base_uri": "https://localhost:8080/",
          "height": 370
        }
      },
      "source": [
        "x1[:20]"
      ],
      "execution_count": 0,
      "outputs": [
        {
          "output_type": "execute_result",
          "data": {
            "text/plain": [
              "array([[ -58.798798 , -143.1228   ,   45.03953  ,  -60.30361  ],\n",
              "       [ -29.280483 ,  -75.66561  ,   12.6686735,  -17.002186 ],\n",
              "       [ -93.18239  ,  -80.71849  ,   48.4285   ,  -69.959045 ],\n",
              "       [-137.09775  ,  -91.53788  ,   73.97832  ,  -81.840645 ],\n",
              "       [  85.639755 , -130.44252  , -101.11647  , -131.27252  ],\n",
              "       [  37.692482 , -102.7865   ,  -55.269417 ,  -40.800434 ],\n",
              "       [ -31.541021 ,   51.655914 ,  -98.97576  ,  -86.583984 ],\n",
              "       [ -36.342064 ,  -94.44689  ,  -58.41116  ,   32.450886 ],\n",
              "       [ -72.71012  , -113.19932  ,  -76.77874  ,   57.087452 ],\n",
              "       [  51.52657  ,  -59.0407   ,  -76.68013  ,  -75.49793  ],\n",
              "       [ -33.037586 ,   30.993378 ,  -60.191135 ,  -36.346474 ],\n",
              "       [-104.25332  ,   72.36039  ,  -77.48072  ,  -76.34919  ],\n",
              "       [ -45.814087 ,  -29.273264 ,   -8.201518 ,  -17.098682 ],\n",
              "       [ -62.707253 ,  -23.543945 ,  -43.754654 ,   19.941654 ],\n",
              "       [ -94.88005  ,  -79.175354 ,   63.302185 ,  -74.085915 ],\n",
              "       [ -79.11742  , -137.5185   ,   69.52097  , -102.816925 ],\n",
              "       [  42.532444 ,  -67.89059  ,  -63.599403 ,  -69.03185  ],\n",
              "       [ -10.711841 ,  -57.744488 ,    7.014248 ,  -32.709473 ],\n",
              "       [ -89.8143   , -139.7941   , -112.6604   ,   77.28218  ],\n",
              "       [  33.634796 ,  -53.9106   ,  -46.820568 ,  -42.956997 ]],\n",
              "      dtype=float32)"
            ]
          },
          "metadata": {
            "tags": []
          },
          "execution_count": 117
        }
      ]
    },
    {
      "cell_type": "code",
      "metadata": {
        "id": "962Ler4vXZUs",
        "colab_type": "code",
        "outputId": "db274c0d-40c8-4a56-e000-14edffefb7ea",
        "colab": {
          "base_uri": "https://localhost:8080/",
          "height": 370
        }
      },
      "source": [
        "x2[:20]"
      ],
      "execution_count": 0,
      "outputs": [
        {
          "output_type": "execute_result",
          "data": {
            "text/plain": [
              "array([[-55.73487  , -68.12797  ,  45.740158 , -58.25296  ],\n",
              "       [-31.137566 , -28.331581 ,  11.146493 ,  -6.611107 ],\n",
              "       [-33.108307 , -43.734974 ,   7.459674 , -11.400465 ],\n",
              "       [-52.681725 , -61.384766 ,  49.439507 , -54.568848 ],\n",
              "       [ 27.788414 , -45.122974 , -25.124245 , -32.248203 ],\n",
              "       [ 33.27888  , -72.16063  , -51.295116 , -35.491127 ],\n",
              "       [ -7.697331 ,   4.893741 , -45.02973  , -23.217188 ],\n",
              "       [-14.763268 , -12.666718 , -20.654018 ,   5.650837 ],\n",
              "       [-48.682648 , -58.002953 , -47.86395  ,  44.51071  ],\n",
              "       [ 21.331951 , -36.54025  , -34.94999  , -20.496416 ],\n",
              "       [-18.698208 ,  16.218681 , -26.626686 , -13.387829 ],\n",
              "       [-39.58984  ,  48.06991  , -44.71605  , -48.661118 ],\n",
              "       [-32.42987  , -17.324856 ,  -8.766498 ,   2.6055984],\n",
              "       [-35.63124  , -26.111677 , -16.236908 ,  12.043753 ],\n",
              "       [-40.377815 , -34.19481  ,  23.577679 , -24.161728 ],\n",
              "       [-48.03213  , -54.8958   ,  27.238113 , -23.184685 ],\n",
              "       [ 24.213419 , -40.156055 , -45.75186  , -20.20251  ],\n",
              "       [-29.373941 , -33.820194 ,  13.6986475, -12.767721 ],\n",
              "       [-23.647661 , -37.219078 , -44.765236 ,  26.508055 ],\n",
              "       [ -2.863619 , -24.892265 , -15.230055 ,  -2.7095566]],\n",
              "      dtype=float32)"
            ]
          },
          "metadata": {
            "tags": []
          },
          "execution_count": 118
        }
      ]
    },
    {
      "cell_type": "code",
      "metadata": {
        "id": "fqu64BT4Xsj9",
        "colab_type": "code",
        "outputId": "97bf41bd-fddf-4481-ac73-a8f948427531",
        "colab": {
          "base_uri": "https://localhost:8080/",
          "height": 34
        }
      },
      "source": [
        "x3[:20]"
      ],
      "execution_count": 0,
      "outputs": [
        {
          "output_type": "execute_result",
          "data": {
            "text/plain": [
              "array([2, 2, 2, 2, 0, 0, 0, 3, 3, 0, 3, 1, 3, 3, 2, 2, 0, 2, 3, 0])"
            ]
          },
          "metadata": {
            "tags": []
          },
          "execution_count": 95
        }
      ]
    },
    {
      "cell_type": "code",
      "metadata": {
        "id": "Y5ha4iTwXuoh",
        "colab_type": "code",
        "outputId": "c9288a12-3fbe-4bbb-b878-eb920995d6de",
        "colab": {
          "base_uri": "https://localhost:8080/",
          "height": 34
        }
      },
      "source": [
        "x4[:20]"
      ],
      "execution_count": 0,
      "outputs": [
        {
          "output_type": "execute_result",
          "data": {
            "text/plain": [
              "array([2, 3, 2, 2, 0, 0, 3, 0, 3, 0, 3, 1, 1, 1, 2, 2, 0, 2, 3, 0])"
            ]
          },
          "metadata": {
            "tags": []
          },
          "execution_count": 96
        }
      ]
    },
    {
      "cell_type": "code",
      "metadata": {
        "id": "FlOk8TC5XyDs",
        "colab_type": "code",
        "outputId": "404efdad-78a9-47f7-9f12-7b0463e4fdaa",
        "colab": {
          "base_uri": "https://localhost:8080/",
          "height": 34
        }
      },
      "source": [
        "x5[:20]"
      ],
      "execution_count": 0,
      "outputs": [
        {
          "output_type": "execute_result",
          "data": {
            "text/plain": [
              "array([2, 3, 2, 2, 0, 0, 0, 1, 3, 0, 3, 1, 3, 1, 2, 2, 0, 2, 3, 0])"
            ]
          },
          "metadata": {
            "tags": []
          },
          "execution_count": 97
        }
      ]
    },
    {
      "cell_type": "code",
      "metadata": {
        "id": "9C9rYTzOadnc",
        "colab_type": "code",
        "outputId": "3065ce12-b684-460c-f644-448dd09f5e70",
        "colab": {
          "base_uri": "https://localhost:8080/",
          "height": 50
        }
      },
      "source": [
        "x[0]"
      ],
      "execution_count": 0,
      "outputs": [
        {
          "output_type": "execute_result",
          "data": {
            "text/plain": [
              "array([4611686018427387904, 4611686018427387904, 4611686018427387904,\n",
              "       4611686018427387904, 4611686018427387904])"
            ]
          },
          "metadata": {
            "tags": []
          },
          "execution_count": 113
        }
      ]
    },
    {
      "cell_type": "code",
      "metadata": {
        "id": "-_yMZU1efDsY",
        "colab_type": "code",
        "outputId": "19ed8c25-d61e-4fb0-8971-c4c887fd095b",
        "colab": {
          "base_uri": "https://localhost:8080/",
          "height": 235
        }
      },
      "source": [
        "x"
      ],
      "execution_count": 0,
      "outputs": [
        {
          "output_type": "execute_result",
          "data": {
            "text/plain": [
              "array([[4611686018427387904, 4611686018427387904, 4611686018427387904,\n",
              "        4611686018427387904, 4611686018427387904],\n",
              "       [4611686018427387904, 4611686018427387904, 4611686018427387904,\n",
              "        4613937818241073152, 4613937818241073152],\n",
              "       [4611686018427387904, 4611686018427387904, 4611686018427387904,\n",
              "        4611686018427387904, 4611686018427387904],\n",
              "       ...,\n",
              "       [4613937818241073152, 4613937818241073152, 4613937818241073152,\n",
              "        4613937818241073152, 4613937818241073152],\n",
              "       [4613937818241073152, 4613937818241073152, 4613937818241073152,\n",
              "        4613937818241073152, 4613937818241073152],\n",
              "       [4613937818241073152, 4613937818241073152, 4613937818241073152,\n",
              "        4613937818241073152, 4613937818241073152]])"
            ]
          },
          "metadata": {
            "tags": []
          },
          "execution_count": 114
        }
      ]
    },
    {
      "cell_type": "code",
      "metadata": {
        "id": "hcIS00D2hbSr",
        "colab_type": "code",
        "colab": {}
      },
      "source": [
        ""
      ],
      "execution_count": 0,
      "outputs": []
    }
  ]
}