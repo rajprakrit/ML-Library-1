{
  "nbformat": 4,
  "nbformat_minor": 0,
  "metadata": {
    "colab": {
      "name": "Linear_Regression ML Lib.ipynb",
      "provenance": [],
      "include_colab_link": true
    },
    "kernelspec": {
      "name": "python3",
      "display_name": "Python 3"
    },
    "accelerator": "GPU"
  },
  "cells": [
    {
      "cell_type": "markdown",
      "metadata": {
        "id": "view-in-github",
        "colab_type": "text"
      },
      "source": [
        "<a href=\"https://colab.research.google.com/github/rajprakrit/ML-Library-1/blob/master/Linear_Regression_ML_Lib.ipynb\" target=\"_parent\"><img src=\"https://colab.research.google.com/assets/colab-badge.svg\" alt=\"Open In Colab\"/></a>"
      ]
    },
    {
      "cell_type": "code",
      "metadata": {
        "id": "QCVklLZydHPE",
        "colab_type": "code",
        "colab": {}
      },
      "source": [
        "import numpy as np\n",
        "import pandas as pd\n",
        "import matplotlib.pyplot as plt\n",
        "from sklearn import datasets"
      ],
      "execution_count": 0,
      "outputs": []
    },
    {
      "cell_type": "code",
      "metadata": {
        "id": "S-Qn-BJ9dI_U",
        "colab_type": "code",
        "colab": {}
      },
      "source": [
        "class LinearRegression:\n",
        "    '''A class defined for training a linear regression model '''\n",
        "    def __init__(self, learning_rate=0.00001, n_iters=10000):  #default values of parameters are set\n",
        "        '''\n",
        "        init parameters are set for every object of this class\n",
        "\n",
        "        ''' \n",
        "        self.lr = learning_rate\n",
        "        self.n_iters = n_iters\n",
        "        self.weights = None\n",
        "        self.bias = None\n",
        "\n",
        "    def fit(self, X, y):\n",
        "        '''\n",
        "        In this part, we train our model by feeding examples to it so that it can learn some parameters on which model can be defined.\n",
        "        Gradient descent is used to optimize the M.S.E cost function  over parameters weights and bias.\n",
        "        we update the value of parameters n_iters number of time so that we could reach an optimal value.\n",
        "        '''\n",
        "        n_samples, n_features = X.shape\n",
        "\n",
        "        # init parameters are initialized(defined for every object in class)\n",
        "        self.weights = np.zeros(n_features)\n",
        "        self.bias = 0\n",
        "        J_history = np.empty(self.n_iters)\n",
        "\n",
        "        # gradient descent(training algorithm)\n",
        "        for i in range(self.n_iters):\n",
        "            y_predicted = np.dot(X, self.weights) + self.bias\n",
        "            # compute gradients\n",
        "            dw = (1 / n_samples) * np.dot(X.T, (y_predicted - y))\n",
        "            db = (1 / n_samples) * np.sum(y_predicted - y)\n",
        "\n",
        "            # simultaneous update for parameters\n",
        "            self.weights -= self.lr * dw\n",
        "            self.bias -= self.lr * db\n",
        "\n",
        "            J_history[i] = np.sum((self.predict(X) - y)**2)/(2*n_samples) #storing value of cost function in a rank one array to plot the learning curve\n",
        "\n",
        "        iters = np.arange(self.n_iters) \n",
        "        plt.plot(iters, J_history) #plotting of the learning curve\n",
        "        J = np.sum((self.predict(X) - y)**2)/(2*n_samples)\n",
        "        return J\n",
        "        \n",
        "\n",
        "    def predict(self, X):\n",
        "      '''this method predicts the target based upon new parametrs '''\n",
        "      y_approximated = np.dot(X, self.weights) + self.bias \n",
        "      return y_approximated\n",
        "\n",
        "    def _accuracy(self, X, y):\n",
        "\n",
        "\n",
        "      '''We are using Linear Regression as a classifier.So, we need to define a threshold value such that we could predict descrete outputs.\n",
        "        Considering an example:Let's suppose our model predicts 5.4 but our labels are integer value, so we say that if prediction is between label - 0.5 and label +0.5\n",
        "        then we can say our output is 5(in this example).\n",
        "        So, we try to find the maximum value of our accuray by cosidering threshold from 0 to 0.9.\n",
        "        We initalize acc to zero and update it if we get a greater accuracy.\n",
        "      '''\n",
        "         \n",
        "      predicted = self.predict(X)\n",
        "      predict = predicted - y #getting difference of predicted and actual to get the threshold\n",
        "      acc = 0 #initializing accuray \n",
        "      for i in range (10): #iterating over values 0 to 9 as threshold\n",
        "        a = np.sum(predict<i/10) \n",
        "        b = np.sum(predict<= (i/10)-1)\n",
        "        acc = max((a-b)/len(predict), acc) #(a - b) denotes number of entries in predict which are <= i/10 or greater than (i/10) - 1\n",
        "   \n",
        "      return acc*100\n",
        "\n",
        "    def train_test_split(self, X, y, ratio): #creating a method for train test split of our dataset\n",
        "        '''\n",
        "        simple train test split method\n",
        "        \n",
        "        '''\n",
        "        size = X.shape[0];\n",
        "        count = size*(1-ratio)\n",
        "        count = int(count)\n",
        "        X_train = X[:count]\n",
        "        y_train = y[:count]\n",
        "        X_test = X[count:]\n",
        "        y_test = y[count:]\n",
        "\n",
        "        return X_train, X_test, y_train, y_test"
      ],
      "execution_count": 0,
      "outputs": []
    },
    {
      "cell_type": "code",
      "metadata": {
        "id": "R4uzFpufdM-W",
        "colab_type": "code",
        "colab": {}
      },
      "source": [
        "mnist = datasets.load_digits()  #getting mnist dataset"
      ],
      "execution_count": 0,
      "outputs": []
    },
    {
      "cell_type": "code",
      "metadata": {
        "id": "dPVb07tgdPzZ",
        "colab_type": "code",
        "colab": {}
      },
      "source": [
        "X, y = mnist.data, mnist.target"
      ],
      "execution_count": 0,
      "outputs": []
    },
    {
      "cell_type": "code",
      "metadata": {
        "id": "x7UWWOJRdRmF",
        "colab_type": "code",
        "colab": {}
      },
      "source": [
        "regressor = LinearRegression() #creating an object regressor"
      ],
      "execution_count": 0,
      "outputs": []
    },
    {
      "cell_type": "code",
      "metadata": {
        "id": "SLoZbKspdTS5",
        "colab_type": "code",
        "colab": {}
      },
      "source": [
        "X_train, X_test, y_train, y_test = regressor.train_test_split(X, y, 0.2) #splitting of data in 80 to 20 ratio"
      ],
      "execution_count": 0,
      "outputs": []
    },
    {
      "cell_type": "code",
      "metadata": {
        "id": "WnWA-a4ZdVYy",
        "colab_type": "code",
        "outputId": "afb8a08c-4d7f-4ea9-c466-98709288c448",
        "colab": {
          "base_uri": "https://localhost:8080/",
          "height": 282
        }
      },
      "source": [
        "regressor.fit(X_train, y_train) #training our model"
      ],
      "execution_count": 15,
      "outputs": [
        {
          "output_type": "execute_result",
          "data": {
            "text/plain": [
              "1.7558248146306437"
            ]
          },
          "metadata": {
            "tags": []
          },
          "execution_count": 15
        },
        {
          "output_type": "display_data",
          "data": {
            "image/png": "[encoded data removed]",
            "text/plain": [
              "<Figure size 432x288 with 1 Axes>"
            ]
          },
          "metadata": {
            "tags": []
          }
        }
      ]
    },
    {
      "cell_type": "markdown",
      "metadata": {
        "id": "iSwB__8gdjl8",
        "colab_type": "text"
      },
      "source": [
        "**The final cost is 1.7558248146306437**"
      ]
    },
    {
      "cell_type": "code",
      "metadata": {
        "id": "2-rbHYnvdXzd",
        "colab_type": "code",
        "colab": {}
      },
      "source": [
        "max_accuracy = regressor._accuracy(X_test, y_test) #fetching max accuracy of our model"
      ],
      "execution_count": 0,
      "outputs": []
    },
    {
      "cell_type": "code",
      "metadata": {
        "id": "_KxjulWjd3e9",
        "colab_type": "code",
        "outputId": "447e0014-44c0-4dcf-b9b8-67d0a7420486",
        "colab": {
          "base_uri": "https://localhost:8080/",
          "height": 34
        }
      },
      "source": [
        "max_accuracy"
      ],
      "execution_count": 17,
      "outputs": [
        {
          "output_type": "execute_result",
          "data": {
            "text/plain": [
              "23.333333333333332"
            ]
          },
          "metadata": {
            "tags": []
          },
          "execution_count": 17
        }
      ]
    },
    {
      "cell_type": "markdown",
      "metadata": {
        "id": "XgWPgU2FeRWG",
        "colab_type": "text"
      },
      "source": [
        "Lets consider one of our **Example**"
      ]
    },
    {
      "cell_type": "code",
      "metadata": {
        "id": "pIUjCWWRefLZ",
        "colab_type": "code",
        "outputId": "31c5b784-71b6-482e-b774-c2db98094d6e",
        "colab": {
          "base_uri": "https://localhost:8080/",
          "height": 120
        }
      },
      "source": [
        "plt.figure(figsize=(1,1))\n",
        "plt.imshow(X_test[3].reshape((8,8)))"
      ],
      "execution_count": 18,
      "outputs": [
        {
          "output_type": "execute_result",
          "data": {
            "text/plain": [
              "<matplotlib.image.AxesImage at 0x7fd9f4254320>"
            ]
          },
          "metadata": {
            "tags": []
          },
          "execution_count": 18
        },
        {
          "output_type": "display_data",
          "data": {
            "image/png": "[encoded data removed]",
            "text/plain": [
              "<Figure size 72x72 with 1 Axes>"
            ]
          },
          "metadata": {
            "tags": []
          }
        }
      ]
    },
    {
      "cell_type": "code",
      "metadata": {
        "id": "obvMlRi2ex8N",
        "colab_type": "code",
        "colab": {}
      },
      "source": [
        "k = regressor.predict(X_test[3])  ##Close to  which can be interpredted from X_train figure"
      ],
      "execution_count": 0,
      "outputs": []
    },
    {
      "cell_type": "code",
      "metadata": {
        "id": "9L_9ejl_e8l4",
        "colab_type": "code",
        "outputId": "a2e9624e-41d2-4d68-92ed-95fdbe5c25e8",
        "colab": {
          "base_uri": "https://localhost:8080/",
          "height": 120
        }
      },
      "source": [
        "plt.figure(figsize=(1,1))\n",
        "plt.imshow(X_test[4].reshape((8,8)))"
      ],
      "execution_count": 20,
      "outputs": [
        {
          "output_type": "execute_result",
          "data": {
            "text/plain": [
              "<matplotlib.image.AxesImage at 0x7fd9f4167a90>"
            ]
          },
          "metadata": {
            "tags": []
          },
          "execution_count": 20
        },
        {
          "output_type": "display_data",
          "data": {
            "image/png": "[encoded data removed]",
            "text/plain": [
              "<Figure size 72x72 with 1 Axes>"
            ]
          },
          "metadata": {
            "tags": []
          }
        }
      ]
    },
    {
      "cell_type": "code",
      "metadata": {
        "id": "yRiyUg71ffnQ",
        "colab_type": "code",
        "outputId": "147e9952-8f1c-4696-d402-d94669b9ccd0",
        "colab": {
          "base_uri": "https://localhost:8080/",
          "height": 34
        }
      },
      "source": [
        "y_test[4]"
      ],
      "execution_count": 21,
      "outputs": [
        {
          "output_type": "execute_result",
          "data": {
            "text/plain": [
              "6"
            ]
          },
          "metadata": {
            "tags": []
          },
          "execution_count": 21
        }
      ]
    },
    {
      "cell_type": "code",
      "metadata": {
        "id": "zPIzQTO9fidL",
        "colab_type": "code",
        "outputId": "95615bd7-2ddd-419e-8a04-32b1c83ed3e7",
        "colab": {
          "base_uri": "https://localhost:8080/",
          "height": 34
        }
      },
      "source": [
        "regressor.predict(X_test[4])"
      ],
      "execution_count": 22,
      "outputs": [
        {
          "output_type": "execute_result",
          "data": {
            "text/plain": [
              "5.031764215291022"
            ]
          },
          "metadata": {
            "tags": []
          },
          "execution_count": 22
        }
      ]
    },
    {
      "cell_type": "markdown",
      "metadata": {
        "id": "O_y01InjDCS-",
        "colab_type": "text"
      },
      "source": [
        "***USING SKLEARN TO TRAIN OUR MODEL***"
      ]
    },
    {
      "cell_type": "code",
      "metadata": {
        "id": "7O3qVVyafnNi",
        "colab_type": "code",
        "colab": {}
      },
      "source": [
        "from sklearn.linear_model import LinearRegression"
      ],
      "execution_count": 0,
      "outputs": []
    },
    {
      "cell_type": "code",
      "metadata": {
        "id": "hhT31DBNCieN",
        "colab_type": "code",
        "colab": {}
      },
      "source": [
        "regressor1 = LinearRegression()"
      ],
      "execution_count": 0,
      "outputs": []
    },
    {
      "cell_type": "code",
      "metadata": {
        "id": "KeJUdNcHCs8W",
        "colab_type": "code",
        "outputId": "083bae5b-ad39-4731-a882-927387309451",
        "colab": {
          "base_uri": "https://localhost:8080/",
          "height": 34
        }
      },
      "source": [
        "regressor1.fit(X_train, y_train)"
      ],
      "execution_count": 25,
      "outputs": [
        {
          "output_type": "execute_result",
          "data": {
            "text/plain": [
              "LinearRegression(copy_X=True, fit_intercept=True, n_jobs=None, normalize=False)"
            ]
          },
          "metadata": {
            "tags": []
          },
          "execution_count": 25
        }
      ]
    },
    {
      "cell_type": "code",
      "metadata": {
        "id": "W6ZB5BlSCwzU",
        "colab_type": "code",
        "colab": {}
      },
      "source": [
        "predictions = regressor1.predict(X_test)"
      ],
      "execution_count": 0,
      "outputs": []
    },
    {
      "cell_type": "code",
      "metadata": {
        "id": "Hh3Qp9sEDyeD",
        "colab_type": "code",
        "colab": {}
      },
      "source": [
        "#getting accuracy on basis of some threshold\n",
        "def _accuracy1(predictions, y):\n",
        "  predict = predictions - y #getting difference of predicted and actual to get the threshold\n",
        "  acc = 0 #initializing accuray \n",
        "  for i in range (10): #iterating over values 0 to 9 as threshold\n",
        "    a = np.sum(predict<i/10) \n",
        "    b = np.sum(predict<= (i/10)-1)\n",
        "    acc = max((a-b)/len(predict), acc) # (a - b) denotes number of entries in predict which are <= i/10 or greater than (i/10) - 1\n",
        "\n",
        "  return acc*100"
      ],
      "execution_count": 0,
      "outputs": []
    },
    {
      "cell_type": "code",
      "metadata": {
        "id": "rgC0m0HKEhVZ",
        "colab_type": "code",
        "outputId": "b15766ec-1bf6-4b01-e682-03968f4f3552",
        "colab": {
          "base_uri": "https://localhost:8080/",
          "height": 34
        }
      },
      "source": [
        "_accuracy1(predictions, y_test)"
      ],
      "execution_count": 28,
      "outputs": [
        {
          "output_type": "execute_result",
          "data": {
            "text/plain": [
              "22.22222222222222"
            ]
          },
          "metadata": {
            "tags": []
          },
          "execution_count": 28
        }
      ]
    },
    {
      "cell_type": "markdown",
      "metadata": {
        "id": "1XFu_topFTtT",
        "colab_type": "text"
      },
      "source": [
        "**accuracy from my model = 23.33% and from sklearn is 22.22%**"
      ]
    },
    {
      "cell_type": "code",
      "metadata": {
        "id": "4FotbVh2GoBO",
        "colab_type": "code",
        "colab": {}
      },
      "source": [
        ""
      ],
      "execution_count": 0,
      "outputs": []
    }
  ]
}