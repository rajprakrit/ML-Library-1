{
  "nbformat": 4,
  "nbformat_minor": 0,
  "metadata": {
    "colab": {
      "name": "K-Means Clustering ML-Lib.ipynb",
      "provenance": [],
      "collapsed_sections": [],
      "include_colab_link": true
    },
    "kernelspec": {
      "name": "python3",
      "display_name": "Python 3"
    },
    "accelerator": "GPU"
  },
  "cells": [
    {
      "cell_type": "markdown",
      "metadata": {
        "id": "view-in-github",
        "colab_type": "text"
      },
      "source": [
        "<a href=\"https://colab.research.google.com/github/rajprakrit/ML-Library-1/blob/master/K_Means_Clustering_ML_Lib.ipynb\" target=\"_parent\"><img src=\"https://colab.research.google.com/assets/colab-badge.svg\" alt=\"Open In Colab\"/></a>"
      ]
    },
    {
      "cell_type": "code",
      "metadata": {
        "id": "9xK6c9y3lcWr",
        "colab_type": "code",
        "colab": {}
      },
      "source": [
        "#importing essential libraries\n",
        "import numpy as np\n",
        "import pandas as pd\n",
        "import matplotlib.pyplot as plt\n",
        "from matplotlib.pyplot import style"
      ],
      "execution_count": 0,
      "outputs": []
    },
    {
      "cell_type": "code",
      "metadata": {
        "id": "zv2kPM420VkC",
        "colab_type": "code",
        "colab": {}
      },
      "source": [
        "class K_Means: \n",
        "    def __init__(self, k=2, tol=0.001, max_iter=300):  #default value of parameters are defined.\n",
        "\n",
        "        '''Class parameters are no.of clusters, tolerence value i.e if change in centroid position is less \n",
        "          than the tolerence value, we break our operations. Number of iterations are also considered so \n",
        "          that we could reach a optiaml solution '''\n",
        "\n",
        "        self.k = k\n",
        "        self.tol = tol\n",
        "        self.max_iter = max_iter\n",
        "\n",
        "    def fit(self,data):\n",
        "        '''In fit method, we first decide our initial centroids. Then the inputs are assigned to their corresponding neaarest centroid.\n",
        "          after per iteration, we make clusters and take the mean of every inut in it and assign it as the neew centroid. This precess\n",
        "          is repeated upto some number of iterations so that we could acheive that particualar centroid'''\n",
        "\n",
        "        self.centroids = {} #creating a dictionary so that we can push a particular value to its corresponding key( we basically create a map of numerous keys.)\n",
        "\n",
        "        for i in range(self.k):\n",
        "            self.centroids[i] = data[i] #randomly assigning cetroids.\n",
        "\n",
        "        for i in range(self.max_iter):\n",
        "            self.classifications = {} # creating dictionary for classification.\n",
        "\n",
        "            for i in range(self.k):\n",
        "                self.classifications[i] = []\n",
        "\n",
        "            for featureset in data:\n",
        "                '''Euclidian distance is taken between every point and current cntroids and dictionary of classifications is updated\n",
        "                  i.e a particular feature is assinged to nearest centroid.''' \n",
        "                distances = [ np.linalg.norm(featureset - self.centroids[centroid]) for centroid in self.centroids ] \n",
        "                classification = distances.index(min(distances))\n",
        "                self.classifications[classification].append(featureset)\n",
        "\n",
        "            prev_centroids = dict(self.centroids)\n",
        "\n",
        "            for classification in self.classifications: #centroids are updated.\n",
        "                self.centroids[classification] = np.average(self.classifications[classification],axis=0)\n",
        "\n",
        "            optimized = True\n",
        "\n",
        "            for c in self.centroids:\n",
        "                ''' this method is created to consider the difference in position of centroid after each iterations.\n",
        "                    If this distance is less than some threshold value the we stop our fitting as ve reached optimal\n",
        "                    situation'''\n",
        "\n",
        "                original_centroid = prev_centroids[c]\n",
        "                current_centroid = self.centroids[c]\n",
        "                if np.sum((current_centroid-original_centroid)/original_centroid*100.0) > self.tol:\n",
        "                    print(np.sum((current_centroid-original_centroid)/original_centroid*100.0))\n",
        "                    optimized = False\n",
        "\n",
        "            if optimized:#this stement runs if our model is optimized.\n",
        "                break\n",
        "\n",
        "    def predict(self,data):\n",
        "        distances = [np.linalg.norm(data-self.centroids[centroid]) for centroid in self.centroids]\n",
        "        classification = distances.index(min(distances))\n",
        "        return classification"
      ],
      "execution_count": 0,
      "outputs": []
    },
    {
      "cell_type": "code",
      "metadata": {
        "id": "__AUYax604jD",
        "colab_type": "code",
        "colab": {}
      },
      "source": [
        "dataset = pd.read_csv('iris.csv')\n",
        "x = dataset.iloc[:, [1, 2]].values"
      ],
      "execution_count": 0,
      "outputs": []
    },
    {
      "cell_type": "code",
      "metadata": {
        "id": "zC6aUHYQ103y",
        "colab_type": "code",
        "outputId": "1da6989e-941d-4f7a-e82f-7d79b81e9cea",
        "colab": {
          "base_uri": "https://localhost:8080/",
          "height": 1000
        }
      },
      "source": [
        "x"
      ],
      "execution_count": 0,
      "outputs": [
        {
          "output_type": "execute_result",
          "data": {
            "text/plain": [
              "array([[3.5, 1.4],\n",
              "       [3. , 1.4],\n",
              "       [3.2, 1.3],\n",
              "       [3.1, 1.5],\n",
              "       [3.6, 1.4],\n",
              "       [3.9, 1.7],\n",
              "       [3.4, 1.4],\n",
              "       [3.4, 1.5],\n",
              "       [2.9, 1.4],\n",
              "       [3.1, 1.5],\n",
              "       [3.7, 1.5],\n",
              "       [3.4, 1.6],\n",
              "       [3. , 1.4],\n",
              "       [3. , 1.1],\n",
              "       [4. , 1.2],\n",
              "       [4.4, 1.5],\n",
              "       [3.9, 1.3],\n",
              "       [3.5, 1.4],\n",
              "       [3.8, 1.7],\n",
              "       [3.8, 1.5],\n",
              "       [3.4, 1.7],\n",
              "       [3.7, 1.5],\n",
              "       [3.6, 1. ],\n",
              "       [3.3, 1.7],\n",
              "       [3.4, 1.9],\n",
              "       [3. , 1.6],\n",
              "       [3.4, 1.6],\n",
              "       [3.5, 1.5],\n",
              "       [3.4, 1.4],\n",
              "       [3.2, 1.6],\n",
              "       [3.1, 1.6],\n",
              "       [3.4, 1.5],\n",
              "       [4.1, 1.5],\n",
              "       [4.2, 1.4],\n",
              "       [3.1, 1.5],\n",
              "       [3.2, 1.2],\n",
              "       [3.5, 1.3],\n",
              "       [3.6, 1.4],\n",
              "       [3. , 1.3],\n",
              "       [3.4, 1.5],\n",
              "       [3.5, 1.3],\n",
              "       [2.3, 1.3],\n",
              "       [3.2, 1.3],\n",
              "       [3.5, 1.6],\n",
              "       [3.8, 1.9],\n",
              "       [3. , 1.4],\n",
              "       [3.8, 1.6],\n",
              "       [3.2, 1.4],\n",
              "       [3.7, 1.5],\n",
              "       [3.3, 1.4],\n",
              "       [3.2, 4.7],\n",
              "       [3.2, 4.5],\n",
              "       [3.1, 4.9],\n",
              "       [2.3, 4. ],\n",
              "       [2.8, 4.6],\n",
              "       [2.8, 4.5],\n",
              "       [3.3, 4.7],\n",
              "       [2.4, 3.3],\n",
              "       [2.9, 4.6],\n",
              "       [2.7, 3.9],\n",
              "       [2. , 3.5],\n",
              "       [3. , 4.2],\n",
              "       [2.2, 4. ],\n",
              "       [2.9, 4.7],\n",
              "       [2.9, 3.6],\n",
              "       [3.1, 4.4],\n",
              "       [3. , 4.5],\n",
              "       [2.7, 4.1],\n",
              "       [2.2, 4.5],\n",
              "       [2.5, 3.9],\n",
              "       [3.2, 4.8],\n",
              "       [2.8, 4. ],\n",
              "       [2.5, 4.9],\n",
              "       [2.8, 4.7],\n",
              "       [2.9, 4.3],\n",
              "       [3. , 4.4],\n",
              "       [2.8, 4.8],\n",
              "       [3. , 5. ],\n",
              "       [2.9, 4.5],\n",
              "       [2.6, 3.5],\n",
              "       [2.4, 3.8],\n",
              "       [2.4, 3.7],\n",
              "       [2.7, 3.9],\n",
              "       [2.7, 5.1],\n",
              "       [3. , 4.5],\n",
              "       [3.4, 4.5],\n",
              "       [3.1, 4.7],\n",
              "       [2.3, 4.4],\n",
              "       [3. , 4.1],\n",
              "       [2.5, 4. ],\n",
              "       [2.6, 4.4],\n",
              "       [3. , 4.6],\n",
              "       [2.6, 4. ],\n",
              "       [2.3, 3.3],\n",
              "       [2.7, 4.2],\n",
              "       [3. , 4.2],\n",
              "       [2.9, 4.2],\n",
              "       [2.9, 4.3],\n",
              "       [2.5, 3. ],\n",
              "       [2.8, 4.1],\n",
              "       [3.3, 6. ],\n",
              "       [2.7, 5.1],\n",
              "       [3. , 5.9],\n",
              "       [2.9, 5.6],\n",
              "       [3. , 5.8],\n",
              "       [3. , 6.6],\n",
              "       [2.5, 4.5],\n",
              "       [2.9, 6.3],\n",
              "       [2.5, 5.8],\n",
              "       [3.6, 6.1],\n",
              "       [3.2, 5.1],\n",
              "       [2.7, 5.3],\n",
              "       [3. , 5.5],\n",
              "       [2.5, 5. ],\n",
              "       [2.8, 5.1],\n",
              "       [3.2, 5.3],\n",
              "       [3. , 5.5],\n",
              "       [3.8, 6.7],\n",
              "       [2.6, 6.9],\n",
              "       [2.2, 5. ],\n",
              "       [3.2, 5.7],\n",
              "       [2.8, 4.9],\n",
              "       [2.8, 6.7],\n",
              "       [2.7, 4.9],\n",
              "       [3.3, 5.7],\n",
              "       [3.2, 6. ],\n",
              "       [2.8, 4.8],\n",
              "       [3. , 4.9],\n",
              "       [2.8, 5.6],\n",
              "       [3. , 5.8],\n",
              "       [2.8, 6.1],\n",
              "       [3.8, 6.4],\n",
              "       [2.8, 5.6],\n",
              "       [2.8, 5.1],\n",
              "       [2.6, 5.6],\n",
              "       [3. , 6.1],\n",
              "       [3.4, 5.6],\n",
              "       [3.1, 5.5],\n",
              "       [3. , 4.8],\n",
              "       [3.1, 5.4],\n",
              "       [3.1, 5.6],\n",
              "       [3.1, 5.1],\n",
              "       [2.7, 5.1],\n",
              "       [3.2, 5.9],\n",
              "       [3.3, 5.7],\n",
              "       [3. , 5.2],\n",
              "       [2.5, 5. ],\n",
              "       [3. , 5.2],\n",
              "       [3.4, 5.4],\n",
              "       [3. , 5.1]])"
            ]
          },
          "metadata": {
            "tags": []
          },
          "execution_count": 14
        }
      ]
    },
    {
      "cell_type": "code",
      "metadata": {
        "id": "_DP82lbI203v",
        "colab_type": "code",
        "outputId": "1c5ac3d4-14c3-46b5-99e1-d21fac1cdc20",
        "colab": {
          "base_uri": "https://localhost:8080/",
          "height": 67
        }
      },
      "source": [
        "clf = K_Means()\n",
        "clf.fit(x)"
      ],
      "execution_count": 0,
      "outputs": [
        {
          "output_type": "stream",
          "text": [
            "78.83720930232566\n",
            "200.24032042723644\n",
            "16.31907654634925\n"
          ],
          "name": "stdout"
        }
      ]
    },
    {
      "cell_type": "code",
      "metadata": {
        "id": "9PDtF1CP3wdk",
        "colab_type": "code",
        "colab": {}
      },
      "source": [
        "style.use('ggplot')\n",
        "colors = 10*[\"g\",\"r\",\"c\",\"b\",\"k\"]"
      ],
      "execution_count": 0,
      "outputs": []
    },
    {
      "cell_type": "code",
      "metadata": {
        "id": "2Ghyi-Fq3k9V",
        "colab_type": "code",
        "outputId": "c667cd95-8001-4ca7-f2ab-fdc1cf7e2ffb",
        "colab": {
          "base_uri": "https://localhost:8080/",
          "height": 265
        }
      },
      "source": [
        "for centroid in clf.centroids:\n",
        "    plt.scatter(clf.centroids[centroid][0], clf.centroids[centroid][1],\n",
        "                marker=\"o\", color=\"k\", s=150, linewidths=5)\n",
        "\n",
        "for classification in clf.classifications:\n",
        "    color = colors[classification]\n",
        "    for featureset in clf.classifications[classification]:\n",
        "        plt.scatter(featureset[0], featureset[1], marker=\"x\", color=color, s=150, linewidths=5)"
      ],
      "execution_count": 0,
      "outputs": [
        {
          "output_type": "display_data",
          "data": {
            "image/png": "[encoded data removed]",
            "text/plain": [
              "<Figure size 432x288 with 1 Axes>"
            ]
          },
          "metadata": {
            "tags": []
          }
        }
      ]
    },
    {
      "cell_type": "code",
      "metadata": {
        "id": "kqrodYhd3l4m",
        "colab_type": "code",
        "colab": {}
      },
      "source": [
        "from sklearn import datasets"
      ],
      "execution_count": 0,
      "outputs": []
    },
    {
      "cell_type": "code",
      "metadata": {
        "id": "1PYeFcCSXPIR",
        "colab_type": "code",
        "colab": {}
      },
      "source": [
        "mnist = datasets.load_digits()"
      ],
      "execution_count": 0,
      "outputs": []
    },
    {
      "cell_type": "code",
      "metadata": {
        "id": "I_5PjgFBXbZa",
        "colab_type": "code",
        "colab": {}
      },
      "source": [
        "X, y = mnist.data, mnist.target"
      ],
      "execution_count": 0,
      "outputs": []
    },
    {
      "cell_type": "code",
      "metadata": {
        "id": "m5UbLXbMXf_I",
        "colab_type": "code",
        "colab": {}
      },
      "source": [
        "def train_test_split(X, y, ratio): #creating a method for train test split of our dataset\n",
        "  \n",
        "        size = X.shape[0];\n",
        "        count = size*(1-ratio)\n",
        "        count = int(count)\n",
        "        X_train = X[:count]\n",
        "        y_train = y[:count]\n",
        "        X_test = X[count:]\n",
        "        y_test = y[count:]\n",
        "\n",
        "        return X_train, X_test, y_train, y_test"
      ],
      "execution_count": 0,
      "outputs": []
    },
    {
      "cell_type": "code",
      "metadata": {
        "id": "X21Q_cQ5XuCF",
        "colab_type": "code",
        "colab": {}
      },
      "source": [
        "X_train, X_test, y_train, y_test = train_test_split(X, y, 0.2)"
      ],
      "execution_count": 0,
      "outputs": []
    },
    {
      "cell_type": "code",
      "metadata": {
        "id": "j3Awmp1-X2U3",
        "colab_type": "code",
        "colab": {}
      },
      "source": [
        "clusterClf = K_Means(k = 10)"
      ],
      "execution_count": 0,
      "outputs": []
    },
    {
      "cell_type": "code",
      "metadata": {
        "id": "u1xxoiWOYQkk",
        "colab_type": "code",
        "colab": {
          "base_uri": "https://localhost:8080/",
          "height": 50
        },
        "outputId": "2648f643-ca07-4aa5-d22c-0c566291fa0d"
      },
      "source": [
        "clusterClf.fit(X_train)"
      ],
      "execution_count": 12,
      "outputs": [
        {
          "output_type": "stream",
          "text": [
            "/usr/local/lib/python3.6/dist-packages/ipykernel_launcher.py:49: RuntimeWarning: divide by zero encountered in true_divide\n",
            "/usr/local/lib/python3.6/dist-packages/ipykernel_launcher.py:49: RuntimeWarning: invalid value encountered in true_divide\n"
          ],
          "name": "stderr"
        }
      ]
    },
    {
      "cell_type": "code",
      "metadata": {
        "id": "TjJj37_BYd9M",
        "colab_type": "code",
        "colab": {}
      },
      "source": [
        ""
      ],
      "execution_count": 0,
      "outputs": []
    }
  ]
}